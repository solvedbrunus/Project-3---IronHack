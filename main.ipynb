{
  "cells": [
    {
      "cell_type": "markdown",
      "metadata": {
        "id": "view-in-github",
        "colab_type": "text"
      },
      "source": [
        "<a href=\"https://colab.research.google.com/github/solvedbrunus/Project-3---IronHack/blob/main/main.ipynb\" target=\"_parent\"><img src=\"https://colab.research.google.com/assets/colab-badge.svg\" alt=\"Open In Colab\"/></a>"
      ]
    },
    {
      "cell_type": "markdown",
      "metadata": {
        "id": "LYcDjOVoX5QS"
      },
      "source": [
        "# Customer Review Analysis and Product Categorization\n",
        "## Using NLP and LLMs"
      ]
    },
    {
      "cell_type": "code",
      "source": [
        "!pip install bertopic\n",
        "\n",
        "!pip install datasets\n",
        "\n",
        "!pip install -U bitsandbytes\n",
        "\n",
        "!pip install -U transformers"
      ],
      "metadata": {
        "id": "FKpVWgEoh6Z2",
        "colab": {
          "base_uri": "https://localhost:8080/"
        },
        "outputId": "c93bca44-26c3-4a22-ad25-1606a8df5d2c"
      },
      "execution_count": null,
      "outputs": [
        {
          "output_type": "stream",
          "name": "stdout",
          "text": [
            "Requirement already satisfied: bertopic in /usr/local/lib/python3.10/dist-packages (0.16.4)\n",
            "Requirement already satisfied: hdbscan>=0.8.29 in /usr/local/lib/python3.10/dist-packages (from bertopic) (0.8.40)\n",
            "Requirement already satisfied: numpy>=1.20.0 in /usr/local/lib/python3.10/dist-packages (from bertopic) (1.26.4)\n",
            "Requirement already satisfied: pandas>=1.1.5 in /usr/local/lib/python3.10/dist-packages (from bertopic) (2.2.2)\n",
            "Requirement already satisfied: plotly>=4.7.0 in /usr/local/lib/python3.10/dist-packages (from bertopic) (5.24.1)\n",
            "Requirement already satisfied: scikit-learn>=0.22.2.post1 in /usr/local/lib/python3.10/dist-packages (from bertopic) (1.5.2)\n",
            "Requirement already satisfied: sentence-transformers>=0.4.1 in /usr/local/lib/python3.10/dist-packages (from bertopic) (3.2.1)\n",
            "Requirement already satisfied: tqdm>=4.41.1 in /usr/local/lib/python3.10/dist-packages (from bertopic) (4.66.6)\n",
            "Requirement already satisfied: umap-learn>=0.5.0 in /usr/local/lib/python3.10/dist-packages (from bertopic) (0.5.7)\n",
            "Requirement already satisfied: scipy>=1.0 in /usr/local/lib/python3.10/dist-packages (from hdbscan>=0.8.29->bertopic) (1.13.1)\n",
            "Requirement already satisfied: joblib>=1.0 in /usr/local/lib/python3.10/dist-packages (from hdbscan>=0.8.29->bertopic) (1.4.2)\n",
            "Requirement already satisfied: python-dateutil>=2.8.2 in /usr/local/lib/python3.10/dist-packages (from pandas>=1.1.5->bertopic) (2.8.2)\n",
            "Requirement already satisfied: pytz>=2020.1 in /usr/local/lib/python3.10/dist-packages (from pandas>=1.1.5->bertopic) (2024.2)\n",
            "Requirement already satisfied: tzdata>=2022.7 in /usr/local/lib/python3.10/dist-packages (from pandas>=1.1.5->bertopic) (2024.2)\n",
            "Requirement already satisfied: tenacity>=6.2.0 in /usr/local/lib/python3.10/dist-packages (from plotly>=4.7.0->bertopic) (9.0.0)\n",
            "Requirement already satisfied: packaging in /usr/local/lib/python3.10/dist-packages (from plotly>=4.7.0->bertopic) (24.2)\n",
            "Requirement already satisfied: threadpoolctl>=3.1.0 in /usr/local/lib/python3.10/dist-packages (from scikit-learn>=0.22.2.post1->bertopic) (3.5.0)\n",
            "Requirement already satisfied: transformers<5.0.0,>=4.41.0 in /usr/local/lib/python3.10/dist-packages (from sentence-transformers>=0.4.1->bertopic) (4.47.0)\n",
            "Requirement already satisfied: torch>=1.11.0 in /usr/local/lib/python3.10/dist-packages (from sentence-transformers>=0.4.1->bertopic) (2.5.1+cu121)\n",
            "Requirement already satisfied: huggingface-hub>=0.20.0 in /usr/local/lib/python3.10/dist-packages (from sentence-transformers>=0.4.1->bertopic) (0.26.5)\n",
            "Requirement already satisfied: Pillow in /usr/local/lib/python3.10/dist-packages (from sentence-transformers>=0.4.1->bertopic) (11.0.0)\n",
            "Requirement already satisfied: numba>=0.51.2 in /usr/local/lib/python3.10/dist-packages (from umap-learn>=0.5.0->bertopic) (0.60.0)\n",
            "Requirement already satisfied: pynndescent>=0.5 in /usr/local/lib/python3.10/dist-packages (from umap-learn>=0.5.0->bertopic) (0.5.13)\n",
            "Requirement already satisfied: filelock in /usr/local/lib/python3.10/dist-packages (from huggingface-hub>=0.20.0->sentence-transformers>=0.4.1->bertopic) (3.16.1)\n",
            "Requirement already satisfied: fsspec>=2023.5.0 in /usr/local/lib/python3.10/dist-packages (from huggingface-hub>=0.20.0->sentence-transformers>=0.4.1->bertopic) (2024.9.0)\n",
            "Requirement already satisfied: pyyaml>=5.1 in /usr/local/lib/python3.10/dist-packages (from huggingface-hub>=0.20.0->sentence-transformers>=0.4.1->bertopic) (6.0.2)\n",
            "Requirement already satisfied: requests in /usr/local/lib/python3.10/dist-packages (from huggingface-hub>=0.20.0->sentence-transformers>=0.4.1->bertopic) (2.32.3)\n",
            "Requirement already satisfied: typing-extensions>=3.7.4.3 in /usr/local/lib/python3.10/dist-packages (from huggingface-hub>=0.20.0->sentence-transformers>=0.4.1->bertopic) (4.12.2)\n",
            "Requirement already satisfied: llvmlite<0.44,>=0.43.0dev0 in /usr/local/lib/python3.10/dist-packages (from numba>=0.51.2->umap-learn>=0.5.0->bertopic) (0.43.0)\n",
            "Requirement already satisfied: six>=1.5 in /usr/local/lib/python3.10/dist-packages (from python-dateutil>=2.8.2->pandas>=1.1.5->bertopic) (1.17.0)\n",
            "Requirement already satisfied: networkx in /usr/local/lib/python3.10/dist-packages (from torch>=1.11.0->sentence-transformers>=0.4.1->bertopic) (3.4.2)\n",
            "Requirement already satisfied: jinja2 in /usr/local/lib/python3.10/dist-packages (from torch>=1.11.0->sentence-transformers>=0.4.1->bertopic) (3.1.4)\n",
            "Requirement already satisfied: sympy==1.13.1 in /usr/local/lib/python3.10/dist-packages (from torch>=1.11.0->sentence-transformers>=0.4.1->bertopic) (1.13.1)\n",
            "Requirement already satisfied: mpmath<1.4,>=1.1.0 in /usr/local/lib/python3.10/dist-packages (from sympy==1.13.1->torch>=1.11.0->sentence-transformers>=0.4.1->bertopic) (1.3.0)\n",
            "Requirement already satisfied: regex!=2019.12.17 in /usr/local/lib/python3.10/dist-packages (from transformers<5.0.0,>=4.41.0->sentence-transformers>=0.4.1->bertopic) (2024.9.11)\n",
            "Requirement already satisfied: tokenizers<0.22,>=0.21 in /usr/local/lib/python3.10/dist-packages (from transformers<5.0.0,>=4.41.0->sentence-transformers>=0.4.1->bertopic) (0.21.0)\n",
            "Requirement already satisfied: safetensors>=0.4.1 in /usr/local/lib/python3.10/dist-packages (from transformers<5.0.0,>=4.41.0->sentence-transformers>=0.4.1->bertopic) (0.4.5)\n",
            "Requirement already satisfied: MarkupSafe>=2.0 in /usr/local/lib/python3.10/dist-packages (from jinja2->torch>=1.11.0->sentence-transformers>=0.4.1->bertopic) (3.0.2)\n",
            "Requirement already satisfied: charset-normalizer<4,>=2 in /usr/local/lib/python3.10/dist-packages (from requests->huggingface-hub>=0.20.0->sentence-transformers>=0.4.1->bertopic) (3.4.0)\n",
            "Requirement already satisfied: idna<4,>=2.5 in /usr/local/lib/python3.10/dist-packages (from requests->huggingface-hub>=0.20.0->sentence-transformers>=0.4.1->bertopic) (3.10)\n",
            "Requirement already satisfied: urllib3<3,>=1.21.1 in /usr/local/lib/python3.10/dist-packages (from requests->huggingface-hub>=0.20.0->sentence-transformers>=0.4.1->bertopic) (2.2.3)\n",
            "Requirement already satisfied: certifi>=2017.4.17 in /usr/local/lib/python3.10/dist-packages (from requests->huggingface-hub>=0.20.0->sentence-transformers>=0.4.1->bertopic) (2024.8.30)\n",
            "Requirement already satisfied: datasets in /usr/local/lib/python3.10/dist-packages (3.2.0)\n",
            "Requirement already satisfied: filelock in /usr/local/lib/python3.10/dist-packages (from datasets) (3.16.1)\n",
            "Requirement already satisfied: numpy>=1.17 in /usr/local/lib/python3.10/dist-packages (from datasets) (1.26.4)\n",
            "Requirement already satisfied: pyarrow>=15.0.0 in /usr/local/lib/python3.10/dist-packages (from datasets) (17.0.0)\n",
            "Requirement already satisfied: dill<0.3.9,>=0.3.0 in /usr/local/lib/python3.10/dist-packages (from datasets) (0.3.8)\n",
            "Requirement already satisfied: pandas in /usr/local/lib/python3.10/dist-packages (from datasets) (2.2.2)\n",
            "Requirement already satisfied: requests>=2.32.2 in /usr/local/lib/python3.10/dist-packages (from datasets) (2.32.3)\n",
            "Requirement already satisfied: tqdm>=4.66.3 in /usr/local/lib/python3.10/dist-packages (from datasets) (4.66.6)\n",
            "Requirement already satisfied: xxhash in /usr/local/lib/python3.10/dist-packages (from datasets) (3.5.0)\n",
            "Requirement already satisfied: multiprocess<0.70.17 in /usr/local/lib/python3.10/dist-packages (from datasets) (0.70.16)\n",
            "Requirement already satisfied: fsspec<=2024.9.0,>=2023.1.0 in /usr/local/lib/python3.10/dist-packages (from fsspec[http]<=2024.9.0,>=2023.1.0->datasets) (2024.9.0)\n",
            "Requirement already satisfied: aiohttp in /usr/local/lib/python3.10/dist-packages (from datasets) (3.11.10)\n",
            "Requirement already satisfied: huggingface-hub>=0.23.0 in /usr/local/lib/python3.10/dist-packages (from datasets) (0.26.5)\n",
            "Requirement already satisfied: packaging in /usr/local/lib/python3.10/dist-packages (from datasets) (24.2)\n",
            "Requirement already satisfied: pyyaml>=5.1 in /usr/local/lib/python3.10/dist-packages (from datasets) (6.0.2)\n",
            "Requirement already satisfied: aiohappyeyeballs>=2.3.0 in /usr/local/lib/python3.10/dist-packages (from aiohttp->datasets) (2.4.4)\n",
            "Requirement already satisfied: aiosignal>=1.1.2 in /usr/local/lib/python3.10/dist-packages (from aiohttp->datasets) (1.3.1)\n",
            "Requirement already satisfied: async-timeout<6.0,>=4.0 in /usr/local/lib/python3.10/dist-packages (from aiohttp->datasets) (4.0.3)\n",
            "Requirement already satisfied: attrs>=17.3.0 in /usr/local/lib/python3.10/dist-packages (from aiohttp->datasets) (24.2.0)\n",
            "Requirement already satisfied: frozenlist>=1.1.1 in /usr/local/lib/python3.10/dist-packages (from aiohttp->datasets) (1.5.0)\n",
            "Requirement already satisfied: multidict<7.0,>=4.5 in /usr/local/lib/python3.10/dist-packages (from aiohttp->datasets) (6.1.0)\n",
            "Requirement already satisfied: propcache>=0.2.0 in /usr/local/lib/python3.10/dist-packages (from aiohttp->datasets) (0.2.1)\n",
            "Requirement already satisfied: yarl<2.0,>=1.17.0 in /usr/local/lib/python3.10/dist-packages (from aiohttp->datasets) (1.18.3)\n",
            "Requirement already satisfied: typing-extensions>=3.7.4.3 in /usr/local/lib/python3.10/dist-packages (from huggingface-hub>=0.23.0->datasets) (4.12.2)\n",
            "Requirement already satisfied: charset-normalizer<4,>=2 in /usr/local/lib/python3.10/dist-packages (from requests>=2.32.2->datasets) (3.4.0)\n",
            "Requirement already satisfied: idna<4,>=2.5 in /usr/local/lib/python3.10/dist-packages (from requests>=2.32.2->datasets) (3.10)\n",
            "Requirement already satisfied: urllib3<3,>=1.21.1 in /usr/local/lib/python3.10/dist-packages (from requests>=2.32.2->datasets) (2.2.3)\n",
            "Requirement already satisfied: certifi>=2017.4.17 in /usr/local/lib/python3.10/dist-packages (from requests>=2.32.2->datasets) (2024.8.30)\n",
            "Requirement already satisfied: python-dateutil>=2.8.2 in /usr/local/lib/python3.10/dist-packages (from pandas->datasets) (2.8.2)\n",
            "Requirement already satisfied: pytz>=2020.1 in /usr/local/lib/python3.10/dist-packages (from pandas->datasets) (2024.2)\n",
            "Requirement already satisfied: tzdata>=2022.7 in /usr/local/lib/python3.10/dist-packages (from pandas->datasets) (2024.2)\n",
            "Requirement already satisfied: six>=1.5 in /usr/local/lib/python3.10/dist-packages (from python-dateutil>=2.8.2->pandas->datasets) (1.17.0)\n",
            "Requirement already satisfied: bitsandbytes in /usr/local/lib/python3.10/dist-packages (0.45.0)\n",
            "Requirement already satisfied: torch in /usr/local/lib/python3.10/dist-packages (from bitsandbytes) (2.5.1+cu121)\n",
            "Requirement already satisfied: numpy in /usr/local/lib/python3.10/dist-packages (from bitsandbytes) (1.26.4)\n",
            "Requirement already satisfied: typing_extensions>=4.8.0 in /usr/local/lib/python3.10/dist-packages (from bitsandbytes) (4.12.2)\n",
            "Requirement already satisfied: filelock in /usr/local/lib/python3.10/dist-packages (from torch->bitsandbytes) (3.16.1)\n",
            "Requirement already satisfied: networkx in /usr/local/lib/python3.10/dist-packages (from torch->bitsandbytes) (3.4.2)\n",
            "Requirement already satisfied: jinja2 in /usr/local/lib/python3.10/dist-packages (from torch->bitsandbytes) (3.1.4)\n",
            "Requirement already satisfied: fsspec in /usr/local/lib/python3.10/dist-packages (from torch->bitsandbytes) (2024.9.0)\n",
            "Requirement already satisfied: sympy==1.13.1 in /usr/local/lib/python3.10/dist-packages (from torch->bitsandbytes) (1.13.1)\n",
            "Requirement already satisfied: mpmath<1.4,>=1.1.0 in /usr/local/lib/python3.10/dist-packages (from sympy==1.13.1->torch->bitsandbytes) (1.3.0)\n",
            "Requirement already satisfied: MarkupSafe>=2.0 in /usr/local/lib/python3.10/dist-packages (from jinja2->torch->bitsandbytes) (3.0.2)\n",
            "Requirement already satisfied: transformers in /usr/local/lib/python3.10/dist-packages (4.47.0)\n",
            "Requirement already satisfied: filelock in /usr/local/lib/python3.10/dist-packages (from transformers) (3.16.1)\n",
            "Requirement already satisfied: huggingface-hub<1.0,>=0.24.0 in /usr/local/lib/python3.10/dist-packages (from transformers) (0.26.5)\n",
            "Requirement already satisfied: numpy>=1.17 in /usr/local/lib/python3.10/dist-packages (from transformers) (1.26.4)\n",
            "Requirement already satisfied: packaging>=20.0 in /usr/local/lib/python3.10/dist-packages (from transformers) (24.2)\n",
            "Requirement already satisfied: pyyaml>=5.1 in /usr/local/lib/python3.10/dist-packages (from transformers) (6.0.2)\n",
            "Requirement already satisfied: regex!=2019.12.17 in /usr/local/lib/python3.10/dist-packages (from transformers) (2024.9.11)\n",
            "Requirement already satisfied: requests in /usr/local/lib/python3.10/dist-packages (from transformers) (2.32.3)\n",
            "Requirement already satisfied: tokenizers<0.22,>=0.21 in /usr/local/lib/python3.10/dist-packages (from transformers) (0.21.0)\n",
            "Requirement already satisfied: safetensors>=0.4.1 in /usr/local/lib/python3.10/dist-packages (from transformers) (0.4.5)\n",
            "Requirement already satisfied: tqdm>=4.27 in /usr/local/lib/python3.10/dist-packages (from transformers) (4.66.6)\n",
            "Requirement already satisfied: fsspec>=2023.5.0 in /usr/local/lib/python3.10/dist-packages (from huggingface-hub<1.0,>=0.24.0->transformers) (2024.9.0)\n",
            "Requirement already satisfied: typing-extensions>=3.7.4.3 in /usr/local/lib/python3.10/dist-packages (from huggingface-hub<1.0,>=0.24.0->transformers) (4.12.2)\n",
            "Requirement already satisfied: charset-normalizer<4,>=2 in /usr/local/lib/python3.10/dist-packages (from requests->transformers) (3.4.0)\n",
            "Requirement already satisfied: idna<4,>=2.5 in /usr/local/lib/python3.10/dist-packages (from requests->transformers) (3.10)\n",
            "Requirement already satisfied: urllib3<3,>=1.21.1 in /usr/local/lib/python3.10/dist-packages (from requests->transformers) (2.2.3)\n",
            "Requirement already satisfied: certifi>=2017.4.17 in /usr/local/lib/python3.10/dist-packages (from requests->transformers) (2024.8.30)\n"
          ]
        }
      ]
    },
    {
      "cell_type": "code",
      "execution_count": null,
      "metadata": {
        "colab": {
          "base_uri": "https://localhost:8080/"
        },
        "id": "0kHMJ8nbX5QT",
        "outputId": "2aa5da93-c7e3-4428-9c92-e2515874b175"
      },
      "outputs": [
        {
          "output_type": "stream",
          "name": "stderr",
          "text": [
            "[nltk_data] Downloading package punkt_tab to /root/nltk_data...\n",
            "[nltk_data]   Package punkt_tab is already up-to-date!\n",
            "[nltk_data] Downloading package stopwords to /root/nltk_data...\n",
            "[nltk_data]   Package stopwords is already up-to-date!\n",
            "[nltk_data] Downloading package wordnet to /root/nltk_data...\n",
            "[nltk_data]   Package wordnet is already up-to-date!\n"
          ]
        }
      ],
      "source": [
        "# Importing necessary libraries\n",
        "import pandas as pd\n",
        "import numpy as np\n",
        "import matplotlib.pyplot as plt\n",
        "import seaborn as sns\n",
        "import re\n",
        "from sklearn.feature_extraction.text import TfidfVectorizer\n",
        "from sklearn.cluster import KMeans\n",
        "from transformers import pipeline\n",
        "import nltk\n",
        "from nltk.tokenize import word_tokenize\n",
        "from nltk.corpus import stopwords\n",
        "from nltk.stem import WordNetLemmatizer\n",
        "\n",
        "\n",
        "# Download required NLTK data\n",
        "nltk.download('punkt_tab')\n",
        "nltk.download('stopwords')\n",
        "nltk.download('wordnet')\n",
        "\n",
        "# Importing transformers and torch\n",
        "from transformers import AutoModelForCausalLM, AutoTokenizer\n",
        "import torch\n",
        "\n",
        "# Importing BERTopic and HDBSCAN\n",
        "from bertopic import BERTopic\n",
        "from hdbscan import HDBSCAN\n",
        "\n",
        "# Importing sklearn modules\n",
        "from sklearn.model_selection import ParameterGrid, train_test_split\n",
        "from sklearn.metrics import silhouette_score, classification_report\n",
        "from sklearn.decomposition import PCA\n",
        "from sklearn.preprocessing import LabelEncoder\n",
        "\n",
        "# Importing datasets\n",
        "from datasets import Dataset\n",
        "\n",
        "# Importing transformers for sequence classification\n",
        "from transformers import AutoModelForSequenceClassification, Trainer, TrainingArguments\n",
        "from transformers import AutoModelForCausalLM, AutoTokenizer, BitsAndBytesConfig"
      ]
    },
    {
      "cell_type": "markdown",
      "metadata": {
        "id": "cEAVqzYxX5QX"
      },
      "source": [
        "## 1. Load Data"
      ]
    },
    {
      "cell_type": "code",
      "execution_count": null,
      "metadata": {
        "colab": {
          "base_uri": "https://localhost:8080/"
        },
        "id": "N-Qv7e4RX5QX",
        "outputId": "1cc19bed-4744-4c76-9970-506affc5bafc"
      },
      "outputs": [
        {
          "output_type": "stream",
          "name": "stderr",
          "text": [
            "<ipython-input-3-71e28eda39f6>:3: DtypeWarning: Columns (1,10) have mixed types. Specify dtype option on import or set low_memory=False.\n",
            "  df = pd.read_csv('/content/1429_1.csv')  # Replace with your file path\n"
          ]
        }
      ],
      "source": [
        "## 1. Load the data from the CSV file\n",
        "# Load your dataset\n",
        "df = pd.read_csv('/content/1429_1.csv')  # Replace with your file path"
      ]
    },
    {
      "cell_type": "code",
      "execution_count": null,
      "metadata": {
        "colab": {
          "base_uri": "https://localhost:8080/"
        },
        "id": "siL_0o5SX5QX",
        "outputId": "8f69ddd9-b0de-4cb9-851f-04b6bf51b5d3"
      },
      "outputs": [
        {
          "output_type": "stream",
          "name": "stdout",
          "text": [
            "Dataset Shape: (34660, 21)\n",
            "\n",
            "Columns: ['id', 'name', 'asins', 'brand', 'categories', 'keys', 'manufacturer', 'reviews.date', 'reviews.dateAdded', 'reviews.dateSeen', 'reviews.didPurchase', 'reviews.doRecommend', 'reviews.id', 'reviews.numHelpful', 'reviews.rating', 'reviews.sourceURLs', 'reviews.text', 'reviews.title', 'reviews.userCity', 'reviews.userProvince', 'reviews.username']\n",
            "\n",
            "Missing Values:\n",
            " id                          0\n",
            "name                     6760\n",
            "asins                       2\n",
            "brand                       0\n",
            "categories                  0\n",
            "keys                        0\n",
            "manufacturer                0\n",
            "reviews.date               39\n",
            "reviews.dateAdded       10621\n",
            "reviews.dateSeen            0\n",
            "reviews.didPurchase     34659\n",
            "reviews.doRecommend       594\n",
            "reviews.id              34659\n",
            "reviews.numHelpful        529\n",
            "reviews.rating             33\n",
            "reviews.sourceURLs          0\n",
            "reviews.text                1\n",
            "reviews.title               6\n",
            "reviews.userCity        34660\n",
            "reviews.userProvince    34660\n",
            "reviews.username            7\n",
            "dtype: int64\n",
            "\n",
            "Sample Data:\n",
            "                      id                                               name  \\\n",
            "0  AVqkIhwDv8e3D1O-lebb  All-New Fire HD 8 Tablet, 8 HD Display, Wi-Fi,...   \n",
            "1  AVqkIhwDv8e3D1O-lebb  All-New Fire HD 8 Tablet, 8 HD Display, Wi-Fi,...   \n",
            "2  AVqkIhwDv8e3D1O-lebb  All-New Fire HD 8 Tablet, 8 HD Display, Wi-Fi,...   \n",
            "3  AVqkIhwDv8e3D1O-lebb  All-New Fire HD 8 Tablet, 8 HD Display, Wi-Fi,...   \n",
            "4  AVqkIhwDv8e3D1O-lebb  All-New Fire HD 8 Tablet, 8 HD Display, Wi-Fi,...   \n",
            "\n",
            "        asins   brand                                         categories  \\\n",
            "0  B01AHB9CN2  Amazon  Electronics,iPad & Tablets,All Tablets,Fire Ta...   \n",
            "1  B01AHB9CN2  Amazon  Electronics,iPad & Tablets,All Tablets,Fire Ta...   \n",
            "2  B01AHB9CN2  Amazon  Electronics,iPad & Tablets,All Tablets,Fire Ta...   \n",
            "3  B01AHB9CN2  Amazon  Electronics,iPad & Tablets,All Tablets,Fire Ta...   \n",
            "4  B01AHB9CN2  Amazon  Electronics,iPad & Tablets,All Tablets,Fire Ta...   \n",
            "\n",
            "                                                keys manufacturer  \\\n",
            "0  841667104676,amazon/53004484,amazon/b01ahb9cn2...       Amazon   \n",
            "1  841667104676,amazon/53004484,amazon/b01ahb9cn2...       Amazon   \n",
            "2  841667104676,amazon/53004484,amazon/b01ahb9cn2...       Amazon   \n",
            "3  841667104676,amazon/53004484,amazon/b01ahb9cn2...       Amazon   \n",
            "4  841667104676,amazon/53004484,amazon/b01ahb9cn2...       Amazon   \n",
            "\n",
            "               reviews.date     reviews.dateAdded  \\\n",
            "0  2017-01-13T00:00:00.000Z  2017-07-03T23:33:15Z   \n",
            "1  2017-01-13T00:00:00.000Z  2017-07-03T23:33:15Z   \n",
            "2  2017-01-13T00:00:00.000Z  2017-07-03T23:33:15Z   \n",
            "3  2017-01-13T00:00:00.000Z  2017-07-03T23:33:15Z   \n",
            "4  2017-01-12T00:00:00.000Z  2017-07-03T23:33:15Z   \n",
            "\n",
            "                                    reviews.dateSeen  ... reviews.doRecommend  \\\n",
            "0  2017-06-07T09:04:00.000Z,2017-04-30T00:45:00.000Z  ...                True   \n",
            "1  2017-06-07T09:04:00.000Z,2017-04-30T00:45:00.000Z  ...                True   \n",
            "2  2017-06-07T09:04:00.000Z,2017-04-30T00:45:00.000Z  ...                True   \n",
            "3  2017-06-07T09:04:00.000Z,2017-04-30T00:45:00.000Z  ...                True   \n",
            "4  2017-06-07T09:04:00.000Z,2017-04-30T00:45:00.000Z  ...                True   \n",
            "\n",
            "  reviews.id  reviews.numHelpful  reviews.rating  \\\n",
            "0        NaN                 0.0             5.0   \n",
            "1        NaN                 0.0             5.0   \n",
            "2        NaN                 0.0             5.0   \n",
            "3        NaN                 0.0             4.0   \n",
            "4        NaN                 0.0             5.0   \n",
            "\n",
            "                                  reviews.sourceURLs  \\\n",
            "0  http://reviews.bestbuy.com/3545/5620406/review...   \n",
            "1  http://reviews.bestbuy.com/3545/5620406/review...   \n",
            "2  http://reviews.bestbuy.com/3545/5620406/review...   \n",
            "3  http://reviews.bestbuy.com/3545/5620406/review...   \n",
            "4  http://reviews.bestbuy.com/3545/5620406/review...   \n",
            "\n",
            "                                        reviews.text  \\\n",
            "0  This product so far has not disappointed. My c...   \n",
            "1  great for beginner or experienced person. Boug...   \n",
            "2  Inexpensive tablet for him to use and learn on...   \n",
            "3  I've had my Fire HD 8 two weeks now and I love...   \n",
            "4  I bought this for my grand daughter when she c...   \n",
            "\n",
            "                             reviews.title reviews.userCity  \\\n",
            "0                                   Kindle              NaN   \n",
            "1                                very fast              NaN   \n",
            "2  Beginner tablet for our 9 year old son.              NaN   \n",
            "3                                  Good!!!              NaN   \n",
            "4                Fantastic Tablet for kids              NaN   \n",
            "\n",
            "   reviews.userProvince  reviews.username  \n",
            "0                   NaN           Adapter  \n",
            "1                   NaN            truman  \n",
            "2                   NaN             DaveZ  \n",
            "3                   NaN            Shacks  \n",
            "4                   NaN         explore42  \n",
            "\n",
            "[5 rows x 21 columns]\n"
          ]
        }
      ],
      "source": [
        "# Display basic information\n",
        "print(\"Dataset Shape:\", df.shape)\n",
        "print(\"\\nColumns:\", df.columns.tolist())\n",
        "print(\"\\nMissing Values:\\n\", df.isnull().sum())\n",
        "print(\"\\nSample Data:\\n\", df.head())"
      ]
    },
    {
      "cell_type": "markdown",
      "metadata": {
        "id": "2gzdovy5X5QY"
      },
      "source": [
        "# 2. Data Cleaning"
      ]
    },
    {
      "cell_type": "code",
      "execution_count": null,
      "metadata": {
        "id": "5_K_xY0BX5Qa"
      },
      "outputs": [],
      "source": [
        "def clean_text(text):\n",
        "    # Convert to string if not already\n",
        "    text = str(text)\n",
        "    # Convert to lowercase\n",
        "    text = text.lower()\n",
        "    # Remove special characters and numbers\n",
        "    text = re.sub(r'[^a-zA-Z\\s]', '', text)\n",
        "    # Remove extra whitespace\n",
        "    text = ' '.join(text.split())\n",
        "    return text\n",
        "\n",
        "# Drop duplicates\n",
        "df = df.drop_duplicates()\n",
        "\n",
        "# Drop rows with missing values in 'reviews.text' and 'reviews.rating'\n",
        "df = df.dropna(subset=['reviews.text', 'reviews.rating'])\n",
        "\n",
        "# Apply text cleaning\n",
        "df['cleaned_text'] = df['reviews.text'].apply(clean_text)\n"
      ]
    },
    {
      "cell_type": "code",
      "execution_count": null,
      "metadata": {
        "colab": {
          "base_uri": "https://localhost:8080/"
        },
        "id": "P0qQ7XEYX5Qa",
        "outputId": "ffb3cd46-9fbc-4e62-8dcf-c92dfe516361"
      },
      "outputs": [
        {
          "output_type": "stream",
          "name": "stdout",
          "text": [
            "sentiment\n",
            "positive    32315\n",
            "neutral      1499\n",
            "negative      812\n",
            "Name: count, dtype: int64\n"
          ]
        }
      ],
      "source": [
        "# 3. Create Sentiment Labels (based on ratings if available)\n",
        "def assign_sentiment(rating):\n",
        "    if rating >= 4:\n",
        "        return 'positive'\n",
        "    elif rating == 3:\n",
        "        return 'neutral'\n",
        "    else:\n",
        "        return 'negative'\n",
        "\n",
        "if 'reviews.rating' in df.columns:\n",
        "    df['sentiment'] = df['reviews.rating'].apply(assign_sentiment)\n",
        "\n",
        "# Check if the sentiment labels are assigned correctly\n",
        "print(df['sentiment'].value_counts())"
      ]
    },
    {
      "cell_type": "markdown",
      "metadata": {
        "id": "f_0Mbn7fX5Qb"
      },
      "source": [
        "## 1. Data Preprocessing"
      ]
    },
    {
      "cell_type": "code",
      "execution_count": null,
      "metadata": {
        "id": "xfktFJ_NX5Qc"
      },
      "outputs": [],
      "source": [
        "def preprocess_text(text):\n",
        "    # Initialize tools\n",
        "    lemmatizer = WordNetLemmatizer()\n",
        "    stop_words = set(stopwords.words('english'))\n",
        "\n",
        "    # Clean and tokenize\n",
        "    text = text.lower()\n",
        "    tokens = word_tokenize(text)\n",
        "\n",
        "    # Remove stopwords and lemmatize\n",
        "    tokens = [lemmatizer.lemmatize(token) for token in tokens\n",
        "             if token not in stop_words and token.isalnum()]\n",
        "\n",
        "    return ' '.join(tokens)\n"
      ]
    },
    {
      "cell_type": "code",
      "execution_count": null,
      "metadata": {
        "colab": {
          "base_uri": "https://localhost:8080/"
        },
        "id": "X3n_lP6JX5Qc",
        "outputId": "5a7ff23d-4ac0-4292-cd77-6f049777a51c"
      },
      "outputs": [
        {
          "output_type": "stream",
          "name": "stdout",
          "text": [
            "0    product far disappointed child love use like a...\n",
            "1    great beginner experienced person bought gift ...\n",
            "2    inexpensive tablet use learn step nabi thrille...\n",
            "3    ive fire hd two week love tablet great valuewe...\n",
            "4    bought grand daughter come visit set user ente...\n",
            "Name: cleaned_text, dtype: object\n"
          ]
        }
      ],
      "source": [
        "# Apply preprocessing to 'cleaned_text'\n",
        "df['cleaned_text'] = df['cleaned_text'].apply(preprocess_text)\n",
        "\n",
        "# Display the cleaned text\n",
        "print(df['cleaned_text'].head())\n"
      ]
    },
    {
      "cell_type": "code",
      "execution_count": null,
      "metadata": {
        "colab": {
          "base_uri": "https://localhost:8080/",
          "height": 850
        },
        "id": "d43Sz5GoX5Qc",
        "outputId": "a59e26ea-bc80-4b62-c182-1fc2079e8914"
      },
      "outputs": [
        {
          "output_type": "display_data",
          "data": {
            "text/plain": [
              "<Figure size 1500x1000 with 3 Axes>"
            ],
            "image/png": "[encoded data removed]"
          },
          "metadata": {}
        },
        {
          "output_type": "stream",
          "name": "stdout",
          "text": [
            "\n",
            "Dataset Summary:\n",
            "Total reviews: 34626\n",
            "\n",
            "Sentiment Distribution:\n",
            "sentiment\n",
            "positive    93.3\n",
            "neutral      4.3\n",
            "negative     2.3\n",
            "Name: proportion, dtype: float64\n",
            "\n",
            "Average review length: 96\n"
          ]
        }
      ],
      "source": [
        "# 5. Visualizations\n",
        "plt.figure(figsize=(15, 10))\n",
        "\n",
        "# Sentiment Distribution Pie Chart\n",
        "plt.subplot(2, 2, 1)\n",
        "df['sentiment'].value_counts().plot(kind='pie', autopct='%1.1f%%')\n",
        "plt.title('Sentiment Distribution')\n",
        "\n",
        "# Review Length Distribution\n",
        "plt.subplot(2, 2, 2)\n",
        "df['review_length'] = df['cleaned_text'].str.len()\n",
        "sns.histplot(data=df, x='review_length', bins=50)\n",
        "plt.title('Review Length Distribution')\n",
        "\n",
        "# Most Common Words\n",
        "from collections import Counter\n",
        "words = ' '.join(df['cleaned_text']).split()\n",
        "word_freq = Counter(words).most_common(10)\n",
        "words_df = pd.DataFrame(word_freq, columns=['Word', 'Frequency'])\n",
        "\n",
        "plt.subplot(2, 2, 3)\n",
        "sns.barplot(data=words_df, x='Word', y='Frequency')\n",
        "plt.xticks(rotation=45)\n",
        "plt.title('Most Common Words')\n",
        "\n",
        "# Rating Distribution (if available)\n",
        "if 'rating' in df.columns:\n",
        "    plt.subplot(2, 2, 4)\n",
        "    sns.countplot(data=df, x='rating')\n",
        "    plt.title('Rating Distribution')\n",
        "\n",
        "plt.tight_layout()\n",
        "plt.show()\n",
        "\n",
        "# 6. Save cleaned dataset\n",
        "df.to_csv('cleaned_reviews.csv', index=False)\n",
        "\n",
        "# Print summary statistics\n",
        "print(\"\\nDataset Summary:\")\n",
        "print(f\"Total reviews: {len(df)}\")\n",
        "print(\"\\nSentiment Distribution:\")\n",
        "print(df['sentiment'].value_counts(normalize=True).round(3) * 100)\n",
        "print(\"\\nAverage review length:\", int(df['review_length'].mean()))"
      ]
    },
    {
      "cell_type": "code",
      "execution_count": null,
      "metadata": {
        "colab": {
          "base_uri": "https://localhost:8080/"
        },
        "id": "rlWx1V8NX5Qc",
        "outputId": "ad2ecafa-17d3-47b9-b538-a2338ad95280"
      },
      "outputs": [
        {
          "output_type": "stream",
          "name": "stderr",
          "text": [
            "<ipython-input-10-e4fae4acfa1a>:1: DtypeWarning: Columns (1,10) have mixed types. Specify dtype option on import or set low_memory=False.\n",
            "  clean_text = pd.read_csv('cleaned_reviews.csv')\n"
          ]
        }
      ],
      "source": [
        "clean_text = pd.read_csv('cleaned_reviews.csv')"
      ]
    },
    {
      "cell_type": "code",
      "execution_count": null,
      "metadata": {
        "colab": {
          "base_uri": "https://localhost:8080/",
          "height": 206
        },
        "id": "5TODUPrnX5Qc",
        "outputId": "08b8accb-2576-4d31-b335-3ac0abc25205"
      },
      "outputs": [
        {
          "output_type": "execute_result",
          "data": {
            "text/plain": [
              "                                        cleaned_text sentiment\n",
              "0  product far disappointed child love use like a...  positive\n",
              "1  great beginner experienced person bought gift ...  positive\n",
              "2  inexpensive tablet use learn step nabi thrille...  positive\n",
              "3  ive fire hd two week love tablet great valuewe...  positive\n",
              "4  bought grand daughter come visit set user ente...  positive"
            ],
            "text/html": [
              "\n",
              "  <div id=\"df-9234cdd3-39ae-4f8f-bcb0-424de661c16b\" class=\"colab-df-container\">\n",
              "    <div>\n",
              "<style scoped>\n",
              "    .dataframe tbody tr th:only-of-type {\n",
              "        vertical-align: middle;\n",
              "    }\n",
              "\n",
              "    .dataframe tbody tr th {\n",
              "        vertical-align: top;\n",
              "    }\n",
              "\n",
              "    .dataframe thead th {\n",
              "        text-align: right;\n",
              "    }\n",
              "</style>\n",
              "<table border=\"1\" class=\"dataframe\">\n",
              "  <thead>\n",
              "    <tr style=\"text-align: right;\">\n",
              "      <th></th>\n",
              "      <th>cleaned_text</th>\n",
              "      <th>sentiment</th>\n",
              "    </tr>\n",
              "  </thead>\n",
              "  <tbody>\n",
              "    <tr>\n",
              "      <th>0</th>\n",
              "      <td>product far disappointed child love use like a...</td>\n",
              "      <td>positive</td>\n",
              "    </tr>\n",
              "    <tr>\n",
              "      <th>1</th>\n",
              "      <td>great beginner experienced person bought gift ...</td>\n",
              "      <td>positive</td>\n",
              "    </tr>\n",
              "    <tr>\n",
              "      <th>2</th>\n",
              "      <td>inexpensive tablet use learn step nabi thrille...</td>\n",
              "      <td>positive</td>\n",
              "    </tr>\n",
              "    <tr>\n",
              "      <th>3</th>\n",
              "      <td>ive fire hd two week love tablet great valuewe...</td>\n",
              "      <td>positive</td>\n",
              "    </tr>\n",
              "    <tr>\n",
              "      <th>4</th>\n",
              "      <td>bought grand daughter come visit set user ente...</td>\n",
              "      <td>positive</td>\n",
              "    </tr>\n",
              "  </tbody>\n",
              "</table>\n",
              "</div>\n",
              "    <div class=\"colab-df-buttons\">\n",
              "\n",
              "  <div class=\"colab-df-container\">\n",
              "    <button class=\"colab-df-convert\" onclick=\"convertToInteractive('df-9234cdd3-39ae-4f8f-bcb0-424de661c16b')\"\n",
              "            title=\"Convert this dataframe to an interactive table.\"\n",
              "            style=\"display:none;\">\n",
              "\n",
              "  <svg xmlns=\"http://www.w3.org/2000/svg\" height=\"24px\" viewBox=\"0 -960 960 960\">\n",
              "    <path d=\"M120-120v-720h720v720H120Zm60-500h600v-160H180v160Zm220 220h160v-160H400v160Zm0 220h160v-160H400v160ZM180-400h160v-160H180v160Zm440 0h160v-160H620v160ZM180-180h160v-160H180v160Zm440 0h160v-160H620v160Z\"/>\n",
              "  </svg>\n",
              "    </button>\n",
              "\n",
              "  <style>\n",
              "    .colab-df-container {\n",
              "      display:flex;\n",
              "      gap: 12px;\n",
              "    }\n",
              "\n",
              "    .colab-df-convert {\n",
              "      background-color: #E8F0FE;\n",
              "      border: none;\n",
              "      border-radius: 50%;\n",
              "      cursor: pointer;\n",
              "      display: none;\n",
              "      fill: #1967D2;\n",
              "      height: 32px;\n",
              "      padding: 0 0 0 0;\n",
              "      width: 32px;\n",
              "    }\n",
              "\n",
              "    .colab-df-convert:hover {\n",
              "      background-color: #E2EBFA;\n",
              "      box-shadow: 0px 1px 2px rgba(60, 64, 67, 0.3), 0px 1px 3px 1px rgba(60, 64, 67, 0.15);\n",
              "      fill: #174EA6;\n",
              "    }\n",
              "\n",
              "    .colab-df-buttons div {\n",
              "      margin-bottom: 4px;\n",
              "    }\n",
              "\n",
              "    [theme=dark] .colab-df-convert {\n",
              "      background-color: #3B4455;\n",
              "      fill: #D2E3FC;\n",
              "    }\n",
              "\n",
              "    [theme=dark] .colab-df-convert:hover {\n",
              "      background-color: #434B5C;\n",
              "      box-shadow: 0px 1px 3px 1px rgba(0, 0, 0, 0.15);\n",
              "      filter: drop-shadow(0px 1px 2px rgba(0, 0, 0, 0.3));\n",
              "      fill: #FFFFFF;\n",
              "    }\n",
              "  </style>\n",
              "\n",
              "    <script>\n",
              "      const buttonEl =\n",
              "        document.querySelector('#df-9234cdd3-39ae-4f8f-bcb0-424de661c16b button.colab-df-convert');\n",
              "      buttonEl.style.display =\n",
              "        google.colab.kernel.accessAllowed ? 'block' : 'none';\n",
              "\n",
              "      async function convertToInteractive(key) {\n",
              "        const element = document.querySelector('#df-9234cdd3-39ae-4f8f-bcb0-424de661c16b');\n",
              "        const dataTable =\n",
              "          await google.colab.kernel.invokeFunction('convertToInteractive',\n",
              "                                                    [key], {});\n",
              "        if (!dataTable) return;\n",
              "\n",
              "        const docLinkHtml = 'Like what you see? Visit the ' +\n",
              "          '<a target=\"_blank\" href=https://colab.research.google.com/notebooks/data_table.ipynb>data table notebook</a>'\n",
              "          + ' to learn more about interactive tables.';\n",
              "        element.innerHTML = '';\n",
              "        dataTable['output_type'] = 'display_data';\n",
              "        await google.colab.output.renderOutput(dataTable, element);\n",
              "        const docLink = document.createElement('div');\n",
              "        docLink.innerHTML = docLinkHtml;\n",
              "        element.appendChild(docLink);\n",
              "      }\n",
              "    </script>\n",
              "  </div>\n",
              "\n",
              "\n",
              "<div id=\"df-52ba4fd0-19e7-4b75-a0a9-ff56884adbbb\">\n",
              "  <button class=\"colab-df-quickchart\" onclick=\"quickchart('df-52ba4fd0-19e7-4b75-a0a9-ff56884adbbb')\"\n",
              "            title=\"Suggest charts\"\n",
              "            style=\"display:none;\">\n",
              "\n",
              "<svg xmlns=\"http://www.w3.org/2000/svg\" height=\"24px\"viewBox=\"0 0 24 24\"\n",
              "     width=\"24px\">\n",
              "    <g>\n",
              "        <path d=\"M19 3H5c-1.1 0-2 .9-2 2v14c0 1.1.9 2 2 2h14c1.1 0 2-.9 2-2V5c0-1.1-.9-2-2-2zM9 17H7v-7h2v7zm4 0h-2V7h2v10zm4 0h-2v-4h2v4z\"/>\n",
              "    </g>\n",
              "</svg>\n",
              "  </button>\n",
              "\n",
              "<style>\n",
              "  .colab-df-quickchart {\n",
              "      --bg-color: #E8F0FE;\n",
              "      --fill-color: #1967D2;\n",
              "      --hover-bg-color: #E2EBFA;\n",
              "      --hover-fill-color: #174EA6;\n",
              "      --disabled-fill-color: #AAA;\n",
              "      --disabled-bg-color: #DDD;\n",
              "  }\n",
              "\n",
              "  [theme=dark] .colab-df-quickchart {\n",
              "      --bg-color: #3B4455;\n",
              "      --fill-color: #D2E3FC;\n",
              "      --hover-bg-color: #434B5C;\n",
              "      --hover-fill-color: #FFFFFF;\n",
              "      --disabled-bg-color: #3B4455;\n",
              "      --disabled-fill-color: #666;\n",
              "  }\n",
              "\n",
              "  .colab-df-quickchart {\n",
              "    background-color: var(--bg-color);\n",
              "    border: none;\n",
              "    border-radius: 50%;\n",
              "    cursor: pointer;\n",
              "    display: none;\n",
              "    fill: var(--fill-color);\n",
              "    height: 32px;\n",
              "    padding: 0;\n",
              "    width: 32px;\n",
              "  }\n",
              "\n",
              "  .colab-df-quickchart:hover {\n",
              "    background-color: var(--hover-bg-color);\n",
              "    box-shadow: 0 1px 2px rgba(60, 64, 67, 0.3), 0 1px 3px 1px rgba(60, 64, 67, 0.15);\n",
              "    fill: var(--button-hover-fill-color);\n",
              "  }\n",
              "\n",
              "  .colab-df-quickchart-complete:disabled,\n",
              "  .colab-df-quickchart-complete:disabled:hover {\n",
              "    background-color: var(--disabled-bg-color);\n",
              "    fill: var(--disabled-fill-color);\n",
              "    box-shadow: none;\n",
              "  }\n",
              "\n",
              "  .colab-df-spinner {\n",
              "    border: 2px solid var(--fill-color);\n",
              "    border-color: transparent;\n",
              "    border-bottom-color: var(--fill-color);\n",
              "    animation:\n",
              "      spin 1s steps(1) infinite;\n",
              "  }\n",
              "\n",
              "  @keyframes spin {\n",
              "    0% {\n",
              "      border-color: transparent;\n",
              "      border-bottom-color: var(--fill-color);\n",
              "      border-left-color: var(--fill-color);\n",
              "    }\n",
              "    20% {\n",
              "      border-color: transparent;\n",
              "      border-left-color: var(--fill-color);\n",
              "      border-top-color: var(--fill-color);\n",
              "    }\n",
              "    30% {\n",
              "      border-color: transparent;\n",
              "      border-left-color: var(--fill-color);\n",
              "      border-top-color: var(--fill-color);\n",
              "      border-right-color: var(--fill-color);\n",
              "    }\n",
              "    40% {\n",
              "      border-color: transparent;\n",
              "      border-right-color: var(--fill-color);\n",
              "      border-top-color: var(--fill-color);\n",
              "    }\n",
              "    60% {\n",
              "      border-color: transparent;\n",
              "      border-right-color: var(--fill-color);\n",
              "    }\n",
              "    80% {\n",
              "      border-color: transparent;\n",
              "      border-right-color: var(--fill-color);\n",
              "      border-bottom-color: var(--fill-color);\n",
              "    }\n",
              "    90% {\n",
              "      border-color: transparent;\n",
              "      border-bottom-color: var(--fill-color);\n",
              "    }\n",
              "  }\n",
              "</style>\n",
              "\n",
              "  <script>\n",
              "    async function quickchart(key) {\n",
              "      const quickchartButtonEl =\n",
              "        document.querySelector('#' + key + ' button');\n",
              "      quickchartButtonEl.disabled = true;  // To prevent multiple clicks.\n",
              "      quickchartButtonEl.classList.add('colab-df-spinner');\n",
              "      try {\n",
              "        const charts = await google.colab.kernel.invokeFunction(\n",
              "            'suggestCharts', [key], {});\n",
              "      } catch (error) {\n",
              "        console.error('Error during call to suggestCharts:', error);\n",
              "      }\n",
              "      quickchartButtonEl.classList.remove('colab-df-spinner');\n",
              "      quickchartButtonEl.classList.add('colab-df-quickchart-complete');\n",
              "    }\n",
              "    (() => {\n",
              "      let quickchartButtonEl =\n",
              "        document.querySelector('#df-52ba4fd0-19e7-4b75-a0a9-ff56884adbbb button');\n",
              "      quickchartButtonEl.style.display =\n",
              "        google.colab.kernel.accessAllowed ? 'block' : 'none';\n",
              "    })();\n",
              "  </script>\n",
              "</div>\n",
              "\n",
              "    </div>\n",
              "  </div>\n"
            ],
            "application/vnd.google.colaboratory.intrinsic+json": {
              "type": "dataframe",
              "summary": "{\n  \"name\": \"clean_text[['cleaned_text', 'sentiment']]\",\n  \"rows\": 5,\n  \"fields\": [\n    {\n      \"column\": \"cleaned_text\",\n      \"properties\": {\n        \"dtype\": \"string\",\n        \"num_unique_values\": 5,\n        \"samples\": [\n          \"great beginner experienced person bought gift love\",\n          \"bought grand daughter come visit set user entered age name amazon make sure access site content appropriate age simple love capability also bought installed gig sd card give little tablet plenty storage price think tablet best one spend hundred dollar additional speed capacity come basic tablet everything people ever need fraction cost\",\n          \"inexpensive tablet use learn step nabi thrilled learn skype already\"\n        ],\n        \"semantic_type\": \"\",\n        \"description\": \"\"\n      }\n    },\n    {\n      \"column\": \"sentiment\",\n      \"properties\": {\n        \"dtype\": \"category\",\n        \"num_unique_values\": 1,\n        \"samples\": [\n          \"positive\"\n        ],\n        \"semantic_type\": \"\",\n        \"description\": \"\"\n      }\n    }\n  ]\n}"
            }
          },
          "metadata": {},
          "execution_count": 11
        }
      ],
      "source": [
        "clean_text[['cleaned_text', 'sentiment']].head()"
      ]
    },
    {
      "cell_type": "code",
      "execution_count": null,
      "metadata": {
        "id": "aiJ-lY5EXNcy"
      },
      "outputs": [],
      "source": [
        "#balance the dataset 800 reviews each label\n",
        "#split the data set in to train and test\n",
        "#apply the pre trained model sentiment-roberta-large-english-3-classes\n",
        "\n",
        "# Balance the dataset\n",
        "positive = clean_text[clean_text['sentiment'] == 'positive'].sample(800, random_state=42)\n",
        "neutral = clean_text[clean_text['sentiment'] == 'neutral'].sample(800, random_state=42)\n",
        "negative = clean_text[clean_text['sentiment'] == 'negative'].sample(800, random_state=42)\n",
        "\n",
        "balanced_df = pd.concat([positive, neutral, negative])"
      ]
    },
    {
      "cell_type": "markdown",
      "metadata": {
        "id": "jfOcZEyPX5Qd"
      },
      "source": [
        "## 2. Sentiment Classification using Pre-trained Model"
      ]
    },
    {
      "cell_type": "code",
      "execution_count": null,
      "metadata": {
        "id": "TnA7zN0tXNcy"
      },
      "outputs": [],
      "source": [
        "# Split the dataset into train and test sets\n",
        "\n",
        "X = balanced_df['cleaned_text']\n",
        "y = balanced_df['sentiment']\n",
        "\n",
        "X_train, X_test, y_train, y_test = train_test_split(X, y, test_size=0.2, random_state=42)"
      ]
    },
    {
      "cell_type": "code",
      "execution_count": null,
      "metadata": {
        "colab": {
          "base_uri": "https://localhost:8080/"
        },
        "id": "k_1vFaQ4XNcy",
        "outputId": "19baceb2-ff79-41b3-e5bb-0e22effd12f0"
      },
      "outputs": [
        {
          "output_type": "stream",
          "name": "stderr",
          "text": [
            "Some weights of the model checkpoint at j-hartmann/sentiment-roberta-large-english-3-classes were not used when initializing RobertaForSequenceClassification: ['roberta.pooler.dense.bias', 'roberta.pooler.dense.weight']\n",
            "- This IS expected if you are initializing RobertaForSequenceClassification from the checkpoint of a model trained on another task or with another architecture (e.g. initializing a BertForSequenceClassification model from a BertForPreTraining model).\n",
            "- This IS NOT expected if you are initializing RobertaForSequenceClassification from the checkpoint of a model that you expect to be exactly identical (initializing a BertForSequenceClassification model from a BertForSequenceClassification model).\n",
            "Device set to use cuda:0\n"
          ]
        },
        {
          "output_type": "stream",
          "name": "stdout",
          "text": [
            "              precision    recall  f1-score   support\n",
            "\n",
            "    negative       0.59      0.51      0.55       157\n",
            "     neutral       0.38      0.44      0.41       155\n",
            "    positive       0.68      0.68      0.68       168\n",
            "\n",
            "    accuracy                           0.55       480\n",
            "   macro avg       0.55      0.54      0.55       480\n",
            "weighted avg       0.56      0.55      0.55       480\n",
            "\n"
          ]
        }
      ],
      "source": [
        "\n",
        "# Load the pre-trained sentiment analysis model roBERTa large english 3 classes\n",
        "classifier = pipeline(\"text-classification\", model=\"j-hartmann/sentiment-roberta-large-english-3-classes\", device=0, return_all_scores=True)\n",
        "\n",
        "# Predict sentiment on the test set\n",
        "predictions = classifier(X_test.tolist())\n",
        "\n",
        "# Extract the predicted labels\n",
        "predicted_labels = [max(pred, key=lambda x: x['score'])['label'] for pred in predictions]\n",
        "\n",
        "# Evaluate the model\n",
        "from sklearn.metrics import classification_report\n",
        "\n",
        "print(classification_report(y_test, predicted_labels))\n",
        "\n",
        "# Save the balanced dataset\n",
        "balanced_df.to_csv('balanced_reviews.csv', index=False)\n",
        "\n"
      ]
    },
    {
      "cell_type": "code",
      "execution_count": null,
      "metadata": {
        "colab": {
          "base_uri": "https://localhost:8080/"
        },
        "id": "aEtWw_eaXNcy",
        "outputId": "e8f10260-5d18-40c2-cdcb-8eb579d486a3"
      },
      "outputs": [
        {
          "output_type": "stream",
          "name": "stderr",
          "text": [
            "Device set to use cuda:0\n"
          ]
        }
      ],
      "source": [
        "#save the model\n",
        "classifier.save_pretrained(\"sentiment_model\")\n",
        "\n",
        "# Load the saved model\n",
        "classifier = pipeline(\"text-classification\", model=\"sentiment_model\", device=0, return_all_scores=True)"
      ]
    },
    {
      "cell_type": "code",
      "execution_count": null,
      "metadata": {
        "colab": {
          "base_uri": "https://localhost:8080/",
          "height": 664,
          "referenced_widgets": [
            "3131a7681e064f6ab1ffe5acddb6fed7",
            "64768647a05046f3870339ff84c635f8",
            "e417e2ea2eca49a5a183024f9b376649",
            "dda0af51f6dd4570846d0ceac20c5876",
            "76e2d1f574e648ecaa62a37aa33f6745",
            "2ee745b1679644759992992f44308959",
            "90e7ef20a16c49edb2d617385ff24a3c",
            "741a40ed2a644558965a4c132e81a96f",
            "33065e967e9042a3b7f36d8192c7ed02",
            "d696e92fc4404cfeac9118e29192c4bb",
            "7194f07b50854faebc187408a7bb32df",
            "1f08d51c2fd94051a2f1104f99cc91e9",
            "b5d99151c491427e804ae7ba93c30839",
            "d8d6597b2f764c658060d791f9b4644d",
            "c94c659f0c534ec99df3e95407c1318c",
            "5c4a3f4d5d1e48e6bef2029817bd88c9",
            "9adc3156435d492991060d9e504bbb7e",
            "cbcf9e452730436cbae1cfb15510610f",
            "d4b4c9a0b3804f4fba8518efcecc1b8a",
            "e74e9ab4ca7144a48b0e3050ad17431c",
            "bcde827c1de0416fb1308875417b816a",
            "6873fa646eef4aa4891cb794d09532ed"
          ]
        },
        "id": "cbJChC93d4nd",
        "outputId": "0c71eed9-d2dc-494e-aa3d-04006bd6d24f"
      },
      "outputs": [
        {
          "output_type": "stream",
          "name": "stderr",
          "text": [
            "Some weights of the model checkpoint at j-hartmann/sentiment-roberta-large-english-3-classes were not used when initializing RobertaForSequenceClassification: ['roberta.pooler.dense.bias', 'roberta.pooler.dense.weight']\n",
            "- This IS expected if you are initializing RobertaForSequenceClassification from the checkpoint of a model trained on another task or with another architecture (e.g. initializing a BertForSequenceClassification model from a BertForPreTraining model).\n",
            "- This IS NOT expected if you are initializing RobertaForSequenceClassification from the checkpoint of a model that you expect to be exactly identical (initializing a BertForSequenceClassification model from a BertForSequenceClassification model).\n"
          ]
        },
        {
          "output_type": "display_data",
          "data": {
            "text/plain": [
              "Map:   0%|          | 0/1920 [00:00<?, ? examples/s]"
            ],
            "application/vnd.jupyter.widget-view+json": {
              "version_major": 2,
              "version_minor": 0,
              "model_id": "3131a7681e064f6ab1ffe5acddb6fed7"
            }
          },
          "metadata": {}
        },
        {
          "output_type": "display_data",
          "data": {
            "text/plain": [
              "Map:   0%|          | 0/480 [00:00<?, ? examples/s]"
            ],
            "application/vnd.jupyter.widget-view+json": {
              "version_major": 2,
              "version_minor": 0,
              "model_id": "1f08d51c2fd94051a2f1104f99cc91e9"
            }
          },
          "metadata": {}
        },
        {
          "output_type": "stream",
          "name": "stderr",
          "text": [
            "\u001b[34m\u001b[1mwandb\u001b[0m: \u001b[33mWARNING\u001b[0m The `run_name` is currently set to the same value as `TrainingArguments.output_dir`. If this was not intended, please specify a different run name by setting the `TrainingArguments.run_name` parameter.\n",
            "\u001b[34m\u001b[1mwandb\u001b[0m: Using wandb-core as the SDK backend.  Please refer to https://wandb.me/wandb-core for more information.\n",
            "\u001b[34m\u001b[1mwandb\u001b[0m: Currently logged in as: \u001b[33msolved-pt\u001b[0m (\u001b[33msolved-pt-ironhack\u001b[0m). Use \u001b[1m`wandb login --relogin`\u001b[0m to force relogin\n"
          ]
        },
        {
          "output_type": "display_data",
          "data": {
            "text/plain": [
              "<IPython.core.display.HTML object>"
            ],
            "text/html": [
              "Tracking run with wandb version 0.18.7"
            ]
          },
          "metadata": {}
        },
        {
          "output_type": "display_data",
          "data": {
            "text/plain": [
              "<IPython.core.display.HTML object>"
            ],
            "text/html": [
              "Run data is saved locally in <code>/content/wandb/run-20241213_213455-4fahpypm</code>"
            ]
          },
          "metadata": {}
        },
        {
          "output_type": "display_data",
          "data": {
            "text/plain": [
              "<IPython.core.display.HTML object>"
            ],
            "text/html": [
              "Syncing run <strong><a href='https://wandb.ai/solved-pt-ironhack/huggingface/runs/4fahpypm' target=\"_blank\">./results</a></strong> to <a href='https://wandb.ai/solved-pt-ironhack/huggingface' target=\"_blank\">Weights & Biases</a> (<a href='https://wandb.me/developer-guide' target=\"_blank\">docs</a>)<br/>"
            ]
          },
          "metadata": {}
        },
        {
          "output_type": "display_data",
          "data": {
            "text/plain": [
              "<IPython.core.display.HTML object>"
            ],
            "text/html": [
              " View project at <a href='https://wandb.ai/solved-pt-ironhack/huggingface' target=\"_blank\">https://wandb.ai/solved-pt-ironhack/huggingface</a>"
            ]
          },
          "metadata": {}
        },
        {
          "output_type": "display_data",
          "data": {
            "text/plain": [
              "<IPython.core.display.HTML object>"
            ],
            "text/html": [
              " View run at <a href='https://wandb.ai/solved-pt-ironhack/huggingface/runs/4fahpypm' target=\"_blank\">https://wandb.ai/solved-pt-ironhack/huggingface/runs/4fahpypm</a>"
            ]
          },
          "metadata": {}
        },
        {
          "output_type": "display_data",
          "data": {
            "text/plain": [
              "<IPython.core.display.HTML object>"
            ],
            "text/html": [
              "\n",
              "    <div>\n",
              "      \n",
              "      <progress value='2400' max='2400' style='width:300px; height:20px; vertical-align: middle;'></progress>\n",
              "      [2400/2400 23:48, Epoch 10/10]\n",
              "    </div>\n",
              "    <table border=\"1\" class=\"dataframe\">\n",
              "  <thead>\n",
              " <tr style=\"text-align: left;\">\n",
              "      <th>Epoch</th>\n",
              "      <th>Training Loss</th>\n",
              "      <th>Validation Loss</th>\n",
              "    </tr>\n",
              "  </thead>\n",
              "  <tbody>\n",
              "    <tr>\n",
              "      <td>1</td>\n",
              "      <td>No log</td>\n",
              "      <td>0.916696</td>\n",
              "    </tr>\n",
              "    <tr>\n",
              "      <td>2</td>\n",
              "      <td>No log</td>\n",
              "      <td>0.837662</td>\n",
              "    </tr>\n",
              "    <tr>\n",
              "      <td>3</td>\n",
              "      <td>0.860600</td>\n",
              "      <td>1.023507</td>\n",
              "    </tr>\n",
              "    <tr>\n",
              "      <td>4</td>\n",
              "      <td>0.860600</td>\n",
              "      <td>1.224155</td>\n",
              "    </tr>\n",
              "    <tr>\n",
              "      <td>5</td>\n",
              "      <td>0.558100</td>\n",
              "      <td>1.431013</td>\n",
              "    </tr>\n",
              "    <tr>\n",
              "      <td>6</td>\n",
              "      <td>0.558100</td>\n",
              "      <td>1.595922</td>\n",
              "    </tr>\n",
              "    <tr>\n",
              "      <td>7</td>\n",
              "      <td>0.391700</td>\n",
              "      <td>1.848765</td>\n",
              "    </tr>\n",
              "    <tr>\n",
              "      <td>8</td>\n",
              "      <td>0.391700</td>\n",
              "      <td>2.147141</td>\n",
              "    </tr>\n",
              "    <tr>\n",
              "      <td>9</td>\n",
              "      <td>0.263800</td>\n",
              "      <td>2.283014</td>\n",
              "    </tr>\n",
              "    <tr>\n",
              "      <td>10</td>\n",
              "      <td>0.263800</td>\n",
              "      <td>2.240419</td>\n",
              "    </tr>\n",
              "  </tbody>\n",
              "</table><p>"
            ]
          },
          "metadata": {}
        },
        {
          "output_type": "display_data",
          "data": {
            "text/plain": [
              "<IPython.core.display.HTML object>"
            ],
            "text/html": []
          },
          "metadata": {}
        }
      ],
      "source": [
        "# fine tune the model with the balanced dataset with more epochs\n",
        "\n",
        "# Load the balanced dataset\n",
        "balanced_df = pd.read_csv('balanced_reviews.csv')\n",
        "\n",
        "# Ensure the cleaned_text column contains only strings and handle missing values\n",
        "balanced_df['cleaned_text'] = balanced_df['cleaned_text'].astype(str).fillna('')\n",
        "\n",
        "X = balanced_df['cleaned_text']\n",
        "y = balanced_df['sentiment']\n",
        "\n",
        "# Encode labels\n",
        "label_encoder = LabelEncoder()\n",
        "y_encoded = label_encoder.fit_transform(y)\n",
        "\n",
        "# Create a Dataset object\n",
        "dataset = Dataset.from_pandas(pd.DataFrame({'text': X, 'label': y_encoded}))\n",
        "\n",
        "# Split the dataset into train and test sets\n",
        "train_test_split = dataset.train_test_split(test_size=0.2, seed=42)\n",
        "train_dataset = train_test_split['train']\n",
        "test_dataset = train_test_split['test']\n",
        "\n",
        "# Load the tokenizer and model\n",
        "tokenizer = AutoTokenizer.from_pretrained(\"j-hartmann/sentiment-roberta-large-english-3-classes\")\n",
        "model = AutoModelForSequenceClassification.from_pretrained(\"j-hartmann/sentiment-roberta-large-english-3-classes\")\n",
        "\n",
        "# Tokenize the dataset\n",
        "def tokenize_function(examples):\n",
        "    return tokenizer(examples['text'], padding=\"max_length\", truncation=True)\n",
        "\n",
        "train_dataset = train_dataset.map(tokenize_function, batched=True)\n",
        "test_dataset = test_dataset.map(tokenize_function, batched=True)\n",
        "\n",
        "# Ensure the datasets have the correct format for training\n",
        "train_dataset.set_format(type='torch', columns=['input_ids', 'attention_mask', 'label'])\n",
        "test_dataset.set_format(type='torch', columns=['input_ids', 'attention_mask', 'label'])\n",
        "\n",
        "# Define training arguments\n",
        "training_args = TrainingArguments(\n",
        "    output_dir=\"./results\",\n",
        "    evaluation_strategy=\"epoch\",\n",
        "    learning_rate=2e-5,\n",
        "    per_device_train_batch_size=8,\n",
        "    per_device_eval_batch_size=8,\n",
        "    num_train_epochs=10,\n",
        "    weight_decay=0.01,\n",
        ")\n",
        "\n",
        "# Initialize the Trainer\n",
        "trainer = Trainer(\n",
        "    model=model,\n",
        "    args=training_args,\n",
        "    train_dataset=train_dataset,\n",
        "    eval_dataset=test_dataset,\n",
        ")\n",
        "\n",
        "# Fine-tune the model\n",
        "trainer.train()\n",
        "\n",
        "# Predict sentiment on the test set\n",
        "predictions = trainer.predict(test_dataset)\n",
        "predicted_labels = label_encoder.inverse_transform(predictions.predictions.argmax(axis=1))\n",
        "\n",
        "# Evaluate the fine-tuned model\n",
        "true_labels = test_dataset['label'].numpy()  # Ensure true labels are in numpy array format\n"
      ]
    },
    {
      "cell_type": "code",
      "execution_count": null,
      "metadata": {
        "colab": {
          "base_uri": "https://localhost:8080/"
        },
        "id": "lDd5QVB9gDyS",
        "outputId": "28c7d53d-02a7-4041-8e55-c01be708f16c"
      },
      "outputs": [
        {
          "output_type": "stream",
          "name": "stdout",
          "text": [
            "              precision    recall  f1-score   support\n",
            "\n",
            "    negative       0.74      0.65      0.69       163\n",
            "     neutral       0.56      0.62      0.59       169\n",
            "    positive       0.69      0.68      0.68       148\n",
            "\n",
            "    accuracy                           0.65       480\n",
            "   macro avg       0.66      0.65      0.65       480\n",
            "weighted avg       0.66      0.65      0.65       480\n",
            "\n"
          ]
        }
      ],
      "source": [
        "print(classification_report(label_encoder.inverse_transform(true_labels), predicted_labels))"
      ]
    },
    {
      "cell_type": "markdown",
      "metadata": {
        "id": "vrkEdrkrX5Qd"
      },
      "source": [
        "## 3. Category Clustering - group similar reviews - type of product"
      ]
    },
    {
      "cell_type": "code",
      "execution_count": null,
      "metadata": {
        "id": "jbz0XnSHo804"
      },
      "outputs": [],
      "source": [
        "# Load the balanced dataset\n",
        "balanced_df = pd.read_csv('balanced_reviews.csv')\n",
        "\n",
        "# Ensure the cleaned_text column contains only strings and handle missing values\n",
        "balanced_df['cleaned_text'] = balanced_df['cleaned_text'].astype(str).fillna('')\n",
        "X = balanced_df['cleaned_text']"
      ]
    },
    {
      "cell_type": "code",
      "execution_count": null,
      "metadata": {
        "colab": {
          "base_uri": "https://localhost:8080/"
        },
        "id": "INzb_2g2oouY",
        "outputId": "ff8ddc64-4e7d-489c-800a-0d0dced5b1fe"
      },
      "outputs": [
        {
          "output_type": "stream",
          "name": "stdout",
          "text": [
            "   Topic  Count                         Name  \\\n",
            "0      0   2057   0_tablet_amazon_great_good   \n",
            "1      1    343  1_alexa_echo_music_question   \n",
            "\n",
            "                                      Representation  \\\n",
            "0  [tablet, amazon, great, good, kindle, use, one...   \n",
            "1  [alexa, echo, music, question, answer, home, s...   \n",
            "\n",
            "                                 Representative_Docs  \n",
            "0  [hii ordered daughter extensive liking tablet ...  \n",
            "1  [interested echo respective echo dot based pot...  \n",
            "Topic 0: [('tablet', 0.0751882685880353), ('amazon', 0.05144428836189142), ('great', 0.043776128351223215), ('good', 0.04240743885336478), ('kindle', 0.04047130466611183), ('use', 0.03987729092389296), ('one', 0.038015446908449955), ('bought', 0.03771323612613319), ('work', 0.036744690907615715), ('fire', 0.03602252269172518)]\n",
            "Topic 1: [('alexa', 0.11172015033874158), ('echo', 0.09574813049045673), ('music', 0.09182583082344666), ('question', 0.06954179136478734), ('answer', 0.052307271226538145), ('home', 0.05161442626290441), ('sound', 0.05061276903937353), ('speaker', 0.04960202907802191), ('great', 0.04427951323439876), ('use', 0.041303664785881544)]\n"
          ]
        }
      ],
      "source": [
        "# Create a BERTopic model\n",
        "topic_model = BERTopic(language=\"english\")\n",
        "\n",
        "# Fit the model on the review data\n",
        "topics, probabilities = topic_model.fit_transform(X)\n",
        "\n",
        "# Extract topics and their representative terms\n",
        "topic_info = topic_model.get_topic_info()\n",
        "representative_terms = {topic: topic_model.get_topic(topic) for topic in topic_info.Topic.unique()}\n",
        "\n",
        "# Display the topics and their representative terms\n",
        "print(topic_info)\n",
        "for topic, terms in representative_terms.items():\n",
        "    print(f\"Topic {topic}: {terms}\")"
      ]
    },
    {
      "cell_type": "code",
      "execution_count": null,
      "metadata": {
        "colab": {
          "base_uri": "https://localhost:8080/"
        },
        "id": "-G7LI0sTpGYI",
        "outputId": "8aadf16c-f543-437a-c52a-8baef19cdaf0"
      },
      "outputs": [
        {
          "output_type": "stream",
          "name": "stdout",
          "text": [
            "Coherence Score: 0.5800252130672383\n",
            "Silhouette Score: 0.5878442160776194\n"
          ]
        }
      ],
      "source": [
        "# Function to calculate coherence score\n",
        "def calculate_coherence_score(model, texts):\n",
        "    from gensim.models.coherencemodel import CoherenceModel\n",
        "    from gensim.corpora.dictionary import Dictionary\n",
        "    topics = model.get_topics()\n",
        "    # Convert topics to the required format\n",
        "    formatted_topics = [[word for word, _ in topic] for topic in topics.values()]\n",
        "    # Create a Gensim dictionary from the texts\n",
        "    dictionary = Dictionary([text.split() for text in texts])\n",
        "    coherence_model = CoherenceModel(topics=formatted_topics, texts=[text.split() for text in texts], dictionary=dictionary, coherence='c_v')\n",
        "    return coherence_model.get_coherence()\n",
        "\n",
        "\n",
        "# Function to calculate silhouette score\n",
        "def calculate_silhouette_score(model, embeddings):\n",
        "    # Get the topics directly from the model's fit_transform result\n",
        "    labels = model.topics_\n",
        "    # Reshape embeddings to be 2D\n",
        "    if embeddings.ndim == 1:\n",
        "        embeddings = embeddings.reshape(-1, 1)\n",
        "    return silhouette_score(embeddings, labels)\n",
        "\n",
        "# Function to calculate elbow method score\n",
        "def calculate_elbow_method(model, docs, embeddings, max_clusters=10):\n",
        "    distortions = []\n",
        "    for k in range(1, max_clusters + 1):\n",
        "        # Reduce topics with original documents\n",
        "        reduced_model = model.reduce_topics(docs, nr_topics=k)\n",
        "        # Calculate distortion using the reduced model\n",
        "        topics, _ = reduced_model.transform(docs)\n",
        "        distortions.append(np.sum(np.square(topics)))\n",
        "    return distortions\n",
        "\n",
        "\n",
        "\n",
        "# Calculate coherence score\n",
        "coherence_score = calculate_coherence_score(topic_model, X)\n",
        "print(f\"Coherence Score: {coherence_score}\")\n",
        "\n",
        "# Calculate silhouette score\n",
        "silhouette_score_value = calculate_silhouette_score(topic_model, probabilities)\n",
        "print(f\"Silhouette Score: {silhouette_score_value}\")\n"
      ]
    },
    {
      "cell_type": "markdown",
      "metadata": {
        "id": "688l7u1OUi_x"
      },
      "source": [
        "## hyperparameter optimization"
      ]
    },
    {
      "cell_type": "code",
      "source": [
        "\n",
        "# Define the parameter grid for hyperparameter optimization\n",
        "param_grid = {\n",
        "    'n_neighbors': [5, 10, 15],\n",
        "    'min_topic_size': [10, 20, 30],\n",
        "    'embedding_model': ['paraphrase-MiniLM-L6-v2', 'all-MiniLM-L6-v2']\n",
        "}\n",
        "\n",
        "# Initialize variables to store the best model and scores\n",
        "best_model = None\n",
        "best_coherence_score = -1\n",
        "best_params = None\n",
        "\n",
        "# Perform grid search\n",
        "for params in ParameterGrid(param_grid):\n",
        "    # Create a BERTopic model with the current parameters\n",
        "    hdbscan_model = HDBSCAN(min_cluster_size=params['min_topic_size'], min_samples=params['n_neighbors'])\n",
        "    model = BERTopic(\n",
        "        language=\"english\",\n",
        "        hdbscan_model=hdbscan_model,\n",
        "        embedding_model=params['embedding_model']\n",
        "    )\n",
        "\n",
        "    # Fit the model on the review data\n",
        "    topics, probabilities = model.fit_transform(X)\n",
        "\n",
        "    # Calculate coherence score\n",
        "    coherence_score = calculate_coherence_score(model, X)\n",
        "\n",
        "    # Update the best model if the current model has a higher coherence score\n",
        "    if coherence_score > best_coherence_score:\n",
        "        best_coherence_score = coherence_score\n",
        "        best_model = model\n",
        "        best_params = params\n",
        "\n",
        "# Display the best parameters and coherence score\n",
        "print(f\"Best Parameters: {best_params}\")\n",
        "print(f\"Best Coherence Score: {best_coherence_score}\")\n",
        "\n",
        "# Fit the best model on the review data\n",
        "topics, probabilities = best_model.fit_transform(X)\n",
        "\n",
        "# Extract topics and their representative terms\n",
        "topic_info = best_model.get_topic_info()\n",
        "representative_terms = {topic: best_model.get_topic(topic) for topic in topic_info.Topic.unique()}\n",
        "\n",
        "# Display the topics and their representative terms\n",
        "print(topic_info)\n",
        "for topic, terms in representative_terms.items():\n",
        "    print(f\"Topic {topic}: {terms}\")\n",
        "\n",
        "# Calculate silhouette score for the best model\n",
        "silhouette_score_value = calculate_silhouette_score(best_model, probabilities)\n",
        "print(f\"Silhouette Score: {silhouette_score_value}\")"
      ],
      "metadata": {
        "colab": {
          "base_uri": "https://localhost:8080/"
        },
        "id": "0ZHuJD8-4Uyc",
        "outputId": "a2d27d86-b519-4544-d199-11be0943fc8d"
      },
      "execution_count": null,
      "outputs": [
        {
          "output_type": "stream",
          "name": "stdout",
          "text": [
            "Best Parameters: {'embedding_model': 'paraphrase-MiniLM-L6-v2', 'min_topic_size': 30, 'n_neighbors': 15}\n",
            "Best Coherence Score: 0.5967265027666812\n",
            "    Topic  Count                              Name  \\\n",
            "0      -1    680      -1_tablet_slow_screen_bought   \n",
            "1       0    314           0_tablet_kid_good_price   \n",
            "2       1    297       1_alexa_echo_music_question   \n",
            "3       2    276             2_tv_amazon_fire_wifi   \n",
            "4       3    179          3_product_buy_great_good   \n",
            "5       4    178        4_kindle_book_read_reading   \n",
            "6       5    104            5_gift_love_bought_old   \n",
            "7       6     85      6_battery_life_tablet_charge   \n",
            "8       7     71  7_charger_charge_kindle_charging   \n",
            "9       8     70          8_apps_google_store_play   \n",
            "10      9     67          9_tablet_amazon_apps_app   \n",
            "11     10     44         10_ipad_book_reading_read   \n",
            "12     11     35            11_kid_game_child_play   \n",
            "\n",
            "                                       Representation  \\\n",
            "0   [tablet, slow, screen, bought, get, game, one,...   \n",
            "1   [tablet, kid, good, price, great, use, love, g...   \n",
            "2   [alexa, echo, music, question, sound, speaker,...   \n",
            "3   [tv, amazon, fire, wifi, work, roku, remote, b...   \n",
            "4   [product, buy, great, good, work, best, purcha...   \n",
            "5   [kindle, book, read, reading, light, page, pap...   \n",
            "6   [gift, love, bought, old, christmas, great, ye...   \n",
            "7   [battery, life, tablet, charge, charging, last...   \n",
            "8   [charger, charge, kindle, charging, usb, port,...   \n",
            "9   [apps, google, store, play, amazon, app, cant,...   \n",
            "10  [tablet, amazon, apps, app, fire, one, ipad, g...   \n",
            "11  [ipad, book, reading, read, tablet, good, woul...   \n",
            "12  [kid, game, child, play, great, good, ok, pric...   \n",
            "\n",
            "                                  Representative_Docs  \n",
            "0   [bought black friday one worst buy life screen...  \n",
            "1   [good tablet purchase first time tablet user, ...  \n",
            "2   [work great love play music answer question, a...  \n",
            "3   [pro amazon prime work still sideload apps lik...  \n",
            "4   [product good waste money would recommend, lik...  \n",
            "5   [kindle keyboard got paper white christmas rea...  \n",
            "6   [bought year old granddaughter year old daught...  \n",
            "7   [easy use battery life great taking time get u...  \n",
            "8   [good charger, although description state work...  \n",
            "9   [wish apps play store, good tablet value downs...  \n",
            "10  [good tablet nice screen function amazon fire ...  \n",
            "11  [ipad already needed something read book found...  \n",
            "12  [great product great kid great game, kid like ...  \n",
            "Topic -1: [('tablet', 0.030639627981418928), ('slow', 0.02418535182579062), ('screen', 0.024054866327943274), ('bought', 0.02385732220356237), ('get', 0.02378900098908509), ('game', 0.022839460366295312), ('one', 0.02203214567470806), ('work', 0.021958335565133724), ('use', 0.02131701791075532), ('good', 0.02127912919857838)]\n",
            "Topic 0: [('tablet', 0.12257031094590327), ('kid', 0.0451711786058034), ('good', 0.04242269724516272), ('price', 0.0409914074182061), ('great', 0.038634817950679155), ('use', 0.031756921583149036), ('love', 0.03027837293585029), ('game', 0.022792238596355197), ('bought', 0.022608368248455597), ('would', 0.022496195553074826)]\n",
            "Topic 1: [('alexa', 0.07365038539705958), ('echo', 0.06351576496511202), ('music', 0.059970955048771896), ('question', 0.0451102210498282), ('sound', 0.036905110666030104), ('speaker', 0.03484726873989297), ('home', 0.03384450414335686), ('answer', 0.032043258290997), ('ask', 0.02594601332918763), ('dot', 0.024963158366720174)]\n",
            "Topic 2: [('tv', 0.07355911736240305), ('amazon', 0.05510591822547603), ('fire', 0.04623351025197815), ('wifi', 0.03126169408740565), ('work', 0.029123110326964807), ('roku', 0.028949655596259435), ('remote', 0.024642586753536803), ('box', 0.02458285166340493), ('device', 0.02300218110057652), ('cable', 0.022591331137394158)]\n",
            "Topic 3: [('product', 0.11292014677216321), ('buy', 0.050862859028463984), ('great', 0.04651282358007064), ('good', 0.044389196815893), ('work', 0.042247564473334547), ('best', 0.03698488146430211), ('purchase', 0.03618129694920092), ('would', 0.035700823157686315), ('price', 0.0343331049658533), ('item', 0.03283961432544614)]\n",
            "Topic 4: [('kindle', 0.09647615529342529), ('book', 0.06829386721278957), ('read', 0.06090928925831579), ('reading', 0.05868952575163183), ('light', 0.045505289601700895), ('page', 0.03642217461395956), ('paperwhite', 0.0361000932337134), ('easy', 0.034326143379205615), ('love', 0.03086810195797314), ('reader', 0.030857501812773427)]\n",
            "Topic 5: [('gift', 0.14576144225342433), ('love', 0.1319317687543075), ('bought', 0.10167339560623287), ('old', 0.07509059048878024), ('christmas', 0.06966417312127901), ('great', 0.0685842892302754), ('year', 0.06815213890687355), ('daughter', 0.06529105895011454), ('grandson', 0.05743767930161199), ('granddaughter', 0.045587962350442046)]\n",
            "Topic 6: [('battery', 0.1431236525927599), ('life', 0.08651332931619891), ('tablet', 0.07502981180671989), ('charge', 0.0561981086518739), ('charging', 0.049663031463435356), ('last', 0.04199336845915805), ('long', 0.039049282954357), ('charger', 0.038415546791396346), ('great', 0.033789681771267115), ('good', 0.027285883282357228)]\n",
            "Topic 7: [('charger', 0.18792942256717482), ('charge', 0.11411047292998164), ('kindle', 0.08993555805195876), ('charging', 0.07057738934317344), ('usb', 0.04431699479586073), ('port', 0.04083047793562322), ('fast', 0.03817626781238093), ('power', 0.03725842322161931), ('plug', 0.03638096202749891), ('fire', 0.035609961729842925)]\n",
            "Topic 8: [('apps', 0.12066920617397257), ('google', 0.10048998705249589), ('store', 0.09245002470525712), ('play', 0.07625040594991352), ('amazon', 0.05936257379913244), ('app', 0.05300435486546899), ('cant', 0.04320555830977989), ('tablet', 0.040177023369184384), ('download', 0.03526900581380701), ('use', 0.032436819993492995)]\n",
            "Topic 9: [('tablet', 0.05797597171767984), ('amazon', 0.044518695270911), ('apps', 0.03357363258949314), ('app', 0.02797335855304678), ('fire', 0.02262511380625379), ('one', 0.022463265375417325), ('ipad', 0.021743535923821562), ('get', 0.02135137084131232), ('good', 0.02134558640886325), ('store', 0.020229302874249087)]\n",
            "Topic 10: [('ipad', 0.14852536703998948), ('book', 0.09543760149842427), ('reading', 0.05558106865648612), ('read', 0.054387077166307314), ('tablet', 0.05128601192188536), ('good', 0.03713252811903397), ('would', 0.033936948495745294), ('kindle', 0.033725834269484535), ('great', 0.029476506115960442), ('net', 0.027657836859013022)]\n",
            "Topic 11: [('kid', 0.2099736097001678), ('game', 0.15177384470881766), ('child', 0.08176754211752633), ('play', 0.06836313388684595), ('great', 0.06723566684301721), ('good', 0.058818742888276945), ('ok', 0.050951167798286345), ('price', 0.04309932184926169), ('young', 0.04307733940090257), ('get', 0.0394538456819777)]\n",
            "Silhouette Score: -0.09906790878860383\n"
          ]
        }
      ]
    },
    {
      "cell_type": "markdown",
      "metadata": {
        "id": "zV9aaBG80i3V"
      },
      "source": [
        "# Analyze Topic Distribution\n",
        "Examine the distribution of documents across topics and identify dominant themes in product reviews."
      ]
    },
    {
      "cell_type": "code",
      "source": [
        "# Create a figure with multiple subplots\n",
        "plt.figure(figsize=(15, 10))\n",
        "\n",
        "# 1. Sentiment Distribution Plot\n",
        "plt.subplot(2, 2, 1)\n",
        "sentiment_counts = balanced_df['sentiment'].value_counts()\n",
        "sns.barplot(x=sentiment_counts.index, y=sentiment_counts.values, palette=\"pastel\")\n",
        "plt.title('Sentiment Distribution', fontsize=14)\n",
        "plt.ylabel('Count', fontsize=12)\n",
        "plt.xlabel('Sentiment', fontsize=12)\n",
        "\n",
        "# 2. Topic Distribution Plot\n",
        "plt.subplot(2, 2, 2)\n",
        "topic_counts = pd.Series(topics).value_counts()\n",
        "sns.barplot(x=topic_counts.index, y=topic_counts.values, palette=\"cool\")\n",
        "plt.title('Topic Distribution', fontsize=14)\n",
        "plt.ylabel('Count', fontsize=12)\n",
        "plt.xlabel('Topic', fontsize=12)\n",
        "\n",
        "# 3. Topic Keywords Visualization\n",
        "plt.subplot(2, 2, 3)\n",
        "for topic_id in representative_terms.keys():\n",
        "    if topic_id != -1:  # Skip the outlier topic (-1) if not needed\n",
        "        topic_words = [word for word, _ in representative_terms[topic_id][:5]]  # Get top 5 words\n",
        "        word_weights = [weight for _, weight in representative_terms[topic_id][:5]]\n",
        "        plt.bar(topic_words, word_weights, alpha=0.7, label=f'Topic {topic_id}')\n",
        "\n",
        "plt.xticks(rotation=45)\n",
        "plt.title('Top Words per Topic', fontsize=14)\n",
        "plt.ylabel('Weight', fontsize=12)\n",
        "plt.xlabel('Words', fontsize=12)\n",
        "plt.legend(title=\"Topics\", bbox_to_anchor=(1.05, 1), loc='upper left')\n",
        "\n",
        "# 4. Sentiment by Topic\n",
        "plt.subplot(2, 2, 4)\n",
        "topic_sentiment = pd.crosstab(pd.Series(topics), balanced_df['sentiment'])\n",
        "topic_sentiment.plot(kind='bar', stacked=True, colormap='viridis', ax=plt.gca())\n",
        "plt.title('Sentiment Distribution by Topic', fontsize=14)\n",
        "plt.ylabel('Count', fontsize=12)\n",
        "plt.xlabel('Topic', fontsize=12)\n",
        "plt.legend(title='Sentiment', bbox_to_anchor=(1.05, 1), loc='upper left')\n",
        "\n",
        "# Adjust layout and display\n",
        "plt.tight_layout()\n",
        "plt.show()\n",
        "\n",
        "\n",
        "# Assuming balanced_df, topics, and representative_terms are defined\n",
        "\n",
        "# Create a figure with multiple subplots\n",
        "plt.figure(figsize=(15, 10))\n",
        "\n",
        "# 1. Sentiment Distribution Plot\n",
        "plt.subplot(2, 2, 1)\n",
        "sentiment_counts = balanced_df['sentiment'].value_counts()\n",
        "sns.barplot(x=sentiment_counts.index, y=sentiment_counts.values, palette=\"pastel\")\n",
        "plt.title('Sentiment Distribution', fontsize=14)\n",
        "plt.ylabel('Count', fontsize=12)\n",
        "plt.xlabel('Sentiment', fontsize=12)\n",
        "\n",
        "# 2. Topic Distribution Plot\n",
        "plt.subplot(2, 2, 2)\n",
        "topic_counts = pd.Series(topics).value_counts()\n",
        "sns.barplot(x=topic_counts.index, y=topic_counts.values, palette=\"cool\")\n",
        "plt.title('Topic Distribution', fontsize=14)\n",
        "plt.ylabel('Count', fontsize=12)\n",
        "plt.xlabel('Topic', fontsize=12)\n",
        "\n",
        "# 3. Topic Keywords Visualization\n",
        "plt.subplot(2, 2, 3)\n",
        "for topic_id in representative_terms.keys():\n",
        "    if topic_id != -1:  # Skip the outlier topic (-1) if not needed\n",
        "        topic_words = [word for word, _ in representative_terms[topic_id][:5]]  # Get top 5 words\n",
        "        word_weights = [weight for _, weight in representative_terms[topic_id][:5]]\n",
        "        plt.bar(topic_words, word_weights, alpha=0.7, label=f'Topic {topic_id}')\n",
        "\n",
        "plt.xticks(rotation=45)\n",
        "plt.title('Top Words per Topic', fontsize=14)\n",
        "plt.ylabel('Weight', fontsize=12)\n",
        "plt.xlabel('Words', fontsize=12)\n",
        "plt.legend(title=\"Topics\", bbox_to_anchor=(1.05, 1), loc='upper left')\n",
        "\n",
        "# 4. Sentiment by Topic\n",
        "plt.subplot(2, 2, 4)\n",
        "topic_sentiment = pd.crosstab(pd.Series(topics), balanced_df['sentiment'])\n",
        "topic_sentiment.plot(kind='bar', stacked=True, colormap='viridis', ax=plt.gca())\n",
        "plt.title('Sentiment Distribution by Topic', fontsize=14)\n",
        "plt.ylabel('Count', fontsize=12)\n",
        "plt.xlabel('Topic', fontsize=12)\n",
        "plt.legend(title='Sentiment', bbox_to_anchor=(1.05, 1), loc='upper left')\n",
        "\n",
        "# Adjust layout and display\n",
        "plt.tight_layout()\n",
        "plt.show()\n"
      ],
      "metadata": {
        "colab": {
          "base_uri": "https://localhost:8080/",
          "height": 1000
        },
        "id": "wEi-zWfj7rOu",
        "outputId": "0cc469ee-c32d-4fb4-c42c-dace15e062fa"
      },
      "execution_count": null,
      "outputs": [
        {
          "output_type": "display_data",
          "data": {
            "text/plain": [
              "<Figure size 1500x1000 with 4 Axes>"
            ],
            "image/png": "[encoded data removed]"
          },
          "metadata": {}
        },
        {
          "output_type": "display_data",
          "data": {
            "text/plain": [
              "<Figure size 1500x1000 with 4 Axes>"
            ],
            "image/png": "[encoded data removed]"
          },
          "metadata": {}
        }
      ]
    },
    {
      "cell_type": "markdown",
      "metadata": {
        "id": "pSUTR2dbX5Qd"
      },
      "source": [
        "## 4. Summarize"
      ]
    },
    {
      "cell_type": "code",
      "execution_count": null,
      "metadata": {
        "colab": {
          "base_uri": "https://localhost:8080/",
          "height": 694,
          "referenced_widgets": [
            "7c64031f51e444cbb853b94c48d4ff1c",
            "a6519a03821f4ecca167675836a34dd9",
            "c92ba88db1ed4656a4b5df28303c8132",
            "da5f5421db0f44b281c028ab234b4914",
            "b155f7a77a934e88b42fd4334a84a535",
            "575ba11a123f4d6892aa4c950ff902db",
            "a0e595ecb9c442cf806930b4d4baef3c",
            "5542a15868d14531afaba9973e31ddd2",
            "26ef4c70226a4e47978fd2e8916e490c",
            "cf657e84e3f44c74aa760a73aa68a9e4",
            "101e8d84874049898587f9ed832118d8"
          ]
        },
        "id": "SYcj_3zZX5Qd",
        "outputId": "472de3d6-5b19-42a3-ac6b-59fb83195c12"
      },
      "outputs": [
        {
          "output_type": "stream",
          "name": "stderr",
          "text": [
            "Unused kwargs: ['_load_in_4bit', '_load_in_8bit', 'quant_method']. These kwargs are not used in <class 'transformers.utils.quantization_config.BitsAndBytesConfig'>.\n"
          ]
        },
        {
          "output_type": "display_data",
          "data": {
            "text/plain": [
              "Loading checkpoint shards:   0%|          | 0/5 [00:00<?, ?it/s]"
            ],
            "application/vnd.jupyter.widget-view+json": {
              "version_major": 2,
              "version_minor": 0,
              "model_id": "7c64031f51e444cbb853b94c48d4ff1c"
            }
          },
          "metadata": {}
        },
        {
          "output_type": "stream",
          "name": "stdout",
          "text": [
            "I've analyzed the Amazon device reviews and here's what I've found:\n",
            "\n",
            "First, the sentiment distribution is overwhelmingly positive. With 93.3% of reviews being positive, it's clear that customers are generally very satisfied with Amazon's devices. The neutral reviews make up 4.3%, and negative reviews only 2.3%. This is a great sign for Amazon, indicating that their products are meeting customer expectations for the most part.\n",
            "\n",
            "Now, looking at the topic analysis, there are two main topics:\n",
            "\n",
            "1. **Tablet/Kindle devices**: Keywords like \"tablet,\" \"amazon,\" \"great,\" \"good,\" \"kindle,\" \"use,\" and \"work\" suggest that customers are happy with the functionality and overall performance of these devices. The positive language indicates satisfaction with their usability and value.\n",
            "\n",
            "2. **Alexa/Echo devices**: Here, keywords such as \"alexa,\" \"echo,\" \"music,\" \"question,\" \"answer,\" \"home,\" and \"sound\" point to customers appreciating the voice assistance and multimedia capabilities of these devices. The fact that they're asking questions and getting answers suggests that the devices are fulfilling their purpose effectively.\n",
            "\n",
            "Given this data, here are some specific ways Amazon can further improve customer satisfaction:\n",
            "\n",
            "**For Tablet/Kindle Devices:**\n",
            "\n",
            "1. **Enhance Battery Life**: While not directly mentioned, battery life is a common concern for tablets and e-readers. Amazon could consider improving battery technology or providing more charging options to alleviate any potential issues.\n",
            "\n",
            "2. **Expand Storage Options**: Some customers might need more storage for books, apps, and media. Offering larger storage capacities or easier ways to expand storage could be beneficial.\n",
            "\n",
            "3. **Improved Customer Support**: Although satisfaction is high, having a robust customer support system can help address any issues promptly. This includes easy access to help centers, quick response times for inquiries, and comprehensive troubleshooting guides.\n",
            "\n",
            "4. **Regular Software Updates**: Keeping devices updated with the latest software ensures they remain secure and compatible with new features and services. Regular updates also show customers that Amazon is committed to the longevity of its products.\n",
            "\n",
            "**For Alexa/Echo Devices:**\n",
            "\n",
            "1. **Enhance Voice Recognition**: Continuously improving the accuracy of voice recognition can make the user experience even better. This includes understanding different accents, languages, and improving in noisy environments.\n",
            "\n",
            "2. **Expand Skill Library**: Encouraging developers to create more skills and integrating with more services can make Alexa more versatile and useful to customers.\n",
            "\n",
            "3. **Privacy Enhancements**: Given the sensitive nature of voice data, ensuring strong privacy measures and giving customers control over their data can build trust.\n",
            "\n",
            "4. **Improved Music Quality**: Since music is a key feature, investing in higher quality audio and expanding music service integrations can enhance the user experience.\n",
            "\n",
            "5. **Smart Home Integration**: For devices like Echo, improving compatibility with a wider range of smart home devices can make them more attractive to customers looking to build a comprehensive smart home ecosystem.\n",
            "\n",
            "Overall, Amazon is doing an excellent job with its devices, but there's always room for improvement. Focusing on these areas can help further enhance customer satisfaction and loyalty.\n"
          ]
        }
      ],
      "source": [
        "from transformers import AutoModelForCausalLM, AutoTokenizer, BitsAndBytesConfig\n",
        "# Load model and tokenizer\n",
        "model_name = \"unsloth/QwQ-32B-Preview-unsloth-bnb-4bit\"\n",
        "tokenizer = AutoTokenizer.from_pretrained(model_name)\n",
        "model = AutoModelForCausalLM.from_pretrained(\n",
        "    model_name,\n",
        "   # torch_dtype=torch.float16,\n",
        "    device_map=\"auto\"\n",
        ")\n",
        "\n",
        "# Prepare summary prompt based on our analysis results\n",
        "summary_prompt = f\"\"\"Based on the analysis of Amazon device reviews:\n",
        "\n",
        "Key Findings:\n",
        "1. Sentiment Distribution:\n",
        "- Positive: 93.3%\n",
        "- Neutral: 4.3%\n",
        "- Negative: 2.3%\n",
        "\n",
        "2. Topic Analysis:\n",
        "- Topic 1: Tablet/Kindle devices (Main keywords: tablet, amazon, great, good, kindle, use, work)\n",
        "- Topic 2: Alexa/Echo devices (Main keywords: alexa, echo, music, question, answer, home, sound)\n",
        "\n",
        "Please analyze this data to:\n",
        "1. Pinpoint customer sentiment toward Amazon's products and services\n",
        "2. Suggest concrete ways to improve customer satisfaction\n",
        "\n",
        "Please be specific and actionable in your recommendations.\"\"\"\n",
        "\n",
        "# Create messages for the model\n",
        "messages = [\n",
        "    {\n",
        "        \"role\": \"system\",\n",
        "        \"content\": \"You are a helpful AI assistant specialized in analyzing customer feedback and providing business insights.\"\n",
        "    },\n",
        "    {\n",
        "        \"role\": \"user\",\n",
        "        \"content\": summary_prompt\n",
        "    }\n",
        "]\n",
        "\n",
        "# Format input and generate response\n",
        "text = tokenizer.apply_chat_template(\n",
        "    messages,\n",
        "    tokenize=False,\n",
        "    add_generation_prompt=True\n",
        ")\n",
        "model_inputs = tokenizer([text], return_tensors=\"pt\").to(model.device)\n",
        "\n",
        "generated_ids = model.generate(\n",
        "    **model_inputs,\n",
        "    max_new_tokens=1000,\n",
        "    temperature=0.7\n",
        ")\n",
        "generated_ids = [\n",
        "    output_ids[len(input_ids):] for input_ids, output_ids in zip(model_inputs.input_ids, generated_ids)\n",
        "]\n",
        "\n",
        "response = tokenizer.batch_decode(generated_ids, skip_special_tokens=True)[0]\n",
        "print(response)\n"
      ]
    }
  ],
  "metadata": {
    "accelerator": "GPU",
    "colab": {
      "gpuType": "A100",
      "machine_shape": "hm",
      "provenance": [],
      "include_colab_link": true
    },
    "kernelspec": {
      "display_name": "Python 3",
      "name": "python3"
    },
    "language_info": {
      "codemirror_mode": {
        "name": "ipython",
        "version": 3
      },
      "file_extension": ".py",
      "mimetype": "text/x-python",
      "name": "python",
      "nbconvert_exporter": "python",
      "pygments_lexer": "ipython3",
      "version": "3.9.18"
    },
    "widgets": {
      "application/vnd.jupyter.widget-state+json": {
        "3131a7681e064f6ab1ffe5acddb6fed7": {
          "model_module": "@jupyter-widgets/controls",
          "model_name": "HBoxModel",
          "model_module_version": "1.5.0",
          "state": {
            "_dom_classes": [],
            "_model_module": "@jupyter-widgets/controls",
            "_model_module_version": "1.5.0",
            "_model_name": "HBoxModel",
            "_view_count": null,
            "_view_module": "@jupyter-widgets/controls",
            "_view_module_version": "1.5.0",
            "_view_name": "HBoxView",
            "box_style": "",
            "children": [
              "IPY_MODEL_64768647a05046f3870339ff84c635f8",
              "IPY_MODEL_e417e2ea2eca49a5a183024f9b376649",
              "IPY_MODEL_dda0af51f6dd4570846d0ceac20c5876"
            ],
            "layout": "IPY_MODEL_76e2d1f574e648ecaa62a37aa33f6745"
          }
        },
        "64768647a05046f3870339ff84c635f8": {
          "model_module": "@jupyter-widgets/controls",
          "model_name": "HTMLModel",
          "model_module_version": "1.5.0",
          "state": {
            "_dom_classes": [],
            "_model_module": "@jupyter-widgets/controls",
            "_model_module_version": "1.5.0",
            "_model_name": "HTMLModel",
            "_view_count": null,
            "_view_module": "@jupyter-widgets/controls",
            "_view_module_version": "1.5.0",
            "_view_name": "HTMLView",
            "description": "",
            "description_tooltip": null,
            "layout": "IPY_MODEL_2ee745b1679644759992992f44308959",
            "placeholder": "​",
            "style": "IPY_MODEL_90e7ef20a16c49edb2d617385ff24a3c",
            "value": "Map: 100%"
          }
        },
        "e417e2ea2eca49a5a183024f9b376649": {
          "model_module": "@jupyter-widgets/controls",
          "model_name": "FloatProgressModel",
          "model_module_version": "1.5.0",
          "state": {
            "_dom_classes": [],
            "_model_module": "@jupyter-widgets/controls",
            "_model_module_version": "1.5.0",
            "_model_name": "FloatProgressModel",
            "_view_count": null,
            "_view_module": "@jupyter-widgets/controls",
            "_view_module_version": "1.5.0",
            "_view_name": "ProgressView",
            "bar_style": "success",
            "description": "",
            "description_tooltip": null,
            "layout": "IPY_MODEL_741a40ed2a644558965a4c132e81a96f",
            "max": 1920,
            "min": 0,
            "orientation": "horizontal",
            "style": "IPY_MODEL_33065e967e9042a3b7f36d8192c7ed02",
            "value": 1920
          }
        },
        "dda0af51f6dd4570846d0ceac20c5876": {
          "model_module": "@jupyter-widgets/controls",
          "model_name": "HTMLModel",
          "model_module_version": "1.5.0",
          "state": {
            "_dom_classes": [],
            "_model_module": "@jupyter-widgets/controls",
            "_model_module_version": "1.5.0",
            "_model_name": "HTMLModel",
            "_view_count": null,
            "_view_module": "@jupyter-widgets/controls",
            "_view_module_version": "1.5.0",
            "_view_name": "HTMLView",
            "description": "",
            "description_tooltip": null,
            "layout": "IPY_MODEL_d696e92fc4404cfeac9118e29192c4bb",
            "placeholder": "​",
            "style": "IPY_MODEL_7194f07b50854faebc187408a7bb32df",
            "value": " 1920/1920 [00:01&lt;00:00, 1472.77 examples/s]"
          }
        },
        "76e2d1f574e648ecaa62a37aa33f6745": {
          "model_module": "@jupyter-widgets/base",
          "model_name": "LayoutModel",
          "model_module_version": "1.2.0",
          "state": {
            "_model_module": "@jupyter-widgets/base",
            "_model_module_version": "1.2.0",
            "_model_name": "LayoutModel",
            "_view_count": null,
            "_view_module": "@jupyter-widgets/base",
            "_view_module_version": "1.2.0",
            "_view_name": "LayoutView",
            "align_content": null,
            "align_items": null,
            "align_self": null,
            "border": null,
            "bottom": null,
            "display": null,
            "flex": null,
            "flex_flow": null,
            "grid_area": null,
            "grid_auto_columns": null,
            "grid_auto_flow": null,
            "grid_auto_rows": null,
            "grid_column": null,
            "grid_gap": null,
            "grid_row": null,
            "grid_template_areas": null,
            "grid_template_columns": null,
            "grid_template_rows": null,
            "height": null,
            "justify_content": null,
            "justify_items": null,
            "left": null,
            "margin": null,
            "max_height": null,
            "max_width": null,
            "min_height": null,
            "min_width": null,
            "object_fit": null,
            "object_position": null,
            "order": null,
            "overflow": null,
            "overflow_x": null,
            "overflow_y": null,
            "padding": null,
            "right": null,
            "top": null,
            "visibility": null,
            "width": null
          }
        },
        "2ee745b1679644759992992f44308959": {
          "model_module": "@jupyter-widgets/base",
          "model_name": "LayoutModel",
          "model_module_version": "1.2.0",
          "state": {
            "_model_module": "@jupyter-widgets/base",
            "_model_module_version": "1.2.0",
            "_model_name": "LayoutModel",
            "_view_count": null,
            "_view_module": "@jupyter-widgets/base",
            "_view_module_version": "1.2.0",
            "_view_name": "LayoutView",
            "align_content": null,
            "align_items": null,
            "align_self": null,
            "border": null,
            "bottom": null,
            "display": null,
            "flex": null,
            "flex_flow": null,
            "grid_area": null,
            "grid_auto_columns": null,
            "grid_auto_flow": null,
            "grid_auto_rows": null,
            "grid_column": null,
            "grid_gap": null,
            "grid_row": null,
            "grid_template_areas": null,
            "grid_template_columns": null,
            "grid_template_rows": null,
            "height": null,
            "justify_content": null,
            "justify_items": null,
            "left": null,
            "margin": null,
            "max_height": null,
            "max_width": null,
            "min_height": null,
            "min_width": null,
            "object_fit": null,
            "object_position": null,
            "order": null,
            "overflow": null,
            "overflow_x": null,
            "overflow_y": null,
            "padding": null,
            "right": null,
            "top": null,
            "visibility": null,
            "width": null
          }
        },
        "90e7ef20a16c49edb2d617385ff24a3c": {
          "model_module": "@jupyter-widgets/controls",
          "model_name": "DescriptionStyleModel",
          "model_module_version": "1.5.0",
          "state": {
            "_model_module": "@jupyter-widgets/controls",
            "_model_module_version": "1.5.0",
            "_model_name": "DescriptionStyleModel",
            "_view_count": null,
            "_view_module": "@jupyter-widgets/base",
            "_view_module_version": "1.2.0",
            "_view_name": "StyleView",
            "description_width": ""
          }
        },
        "741a40ed2a644558965a4c132e81a96f": {
          "model_module": "@jupyter-widgets/base",
          "model_name": "LayoutModel",
          "model_module_version": "1.2.0",
          "state": {
            "_model_module": "@jupyter-widgets/base",
            "_model_module_version": "1.2.0",
            "_model_name": "LayoutModel",
            "_view_count": null,
            "_view_module": "@jupyter-widgets/base",
            "_view_module_version": "1.2.0",
            "_view_name": "LayoutView",
            "align_content": null,
            "align_items": null,
            "align_self": null,
            "border": null,
            "bottom": null,
            "display": null,
            "flex": null,
            "flex_flow": null,
            "grid_area": null,
            "grid_auto_columns": null,
            "grid_auto_flow": null,
            "grid_auto_rows": null,
            "grid_column": null,
            "grid_gap": null,
            "grid_row": null,
            "grid_template_areas": null,
            "grid_template_columns": null,
            "grid_template_rows": null,
            "height": null,
            "justify_content": null,
            "justify_items": null,
            "left": null,
            "margin": null,
            "max_height": null,
            "max_width": null,
            "min_height": null,
            "min_width": null,
            "object_fit": null,
            "object_position": null,
            "order": null,
            "overflow": null,
            "overflow_x": null,
            "overflow_y": null,
            "padding": null,
            "right": null,
            "top": null,
            "visibility": null,
            "width": null
          }
        },
        "33065e967e9042a3b7f36d8192c7ed02": {
          "model_module": "@jupyter-widgets/controls",
          "model_name": "ProgressStyleModel",
          "model_module_version": "1.5.0",
          "state": {
            "_model_module": "@jupyter-widgets/controls",
            "_model_module_version": "1.5.0",
            "_model_name": "ProgressStyleModel",
            "_view_count": null,
            "_view_module": "@jupyter-widgets/base",
            "_view_module_version": "1.2.0",
            "_view_name": "StyleView",
            "bar_color": null,
            "description_width": ""
          }
        },
        "d696e92fc4404cfeac9118e29192c4bb": {
          "model_module": "@jupyter-widgets/base",
          "model_name": "LayoutModel",
          "model_module_version": "1.2.0",
          "state": {
            "_model_module": "@jupyter-widgets/base",
            "_model_module_version": "1.2.0",
            "_model_name": "LayoutModel",
            "_view_count": null,
            "_view_module": "@jupyter-widgets/base",
            "_view_module_version": "1.2.0",
            "_view_name": "LayoutView",
            "align_content": null,
            "align_items": null,
            "align_self": null,
            "border": null,
            "bottom": null,
            "display": null,
            "flex": null,
            "flex_flow": null,
            "grid_area": null,
            "grid_auto_columns": null,
            "grid_auto_flow": null,
            "grid_auto_rows": null,
            "grid_column": null,
            "grid_gap": null,
            "grid_row": null,
            "grid_template_areas": null,
            "grid_template_columns": null,
            "grid_template_rows": null,
            "height": null,
            "justify_content": null,
            "justify_items": null,
            "left": null,
            "margin": null,
            "max_height": null,
            "max_width": null,
            "min_height": null,
            "min_width": null,
            "object_fit": null,
            "object_position": null,
            "order": null,
            "overflow": null,
            "overflow_x": null,
            "overflow_y": null,
            "padding": null,
            "right": null,
            "top": null,
            "visibility": null,
            "width": null
          }
        },
        "7194f07b50854faebc187408a7bb32df": {
          "model_module": "@jupyter-widgets/controls",
          "model_name": "DescriptionStyleModel",
          "model_module_version": "1.5.0",
          "state": {
            "_model_module": "@jupyter-widgets/controls",
            "_model_module_version": "1.5.0",
            "_model_name": "DescriptionStyleModel",
            "_view_count": null,
            "_view_module": "@jupyter-widgets/base",
            "_view_module_version": "1.2.0",
            "_view_name": "StyleView",
            "description_width": ""
          }
        },
        "1f08d51c2fd94051a2f1104f99cc91e9": {
          "model_module": "@jupyter-widgets/controls",
          "model_name": "HBoxModel",
          "model_module_version": "1.5.0",
          "state": {
            "_dom_classes": [],
            "_model_module": "@jupyter-widgets/controls",
            "_model_module_version": "1.5.0",
            "_model_name": "HBoxModel",
            "_view_count": null,
            "_view_module": "@jupyter-widgets/controls",
            "_view_module_version": "1.5.0",
            "_view_name": "HBoxView",
            "box_style": "",
            "children": [
              "IPY_MODEL_b5d99151c491427e804ae7ba93c30839",
              "IPY_MODEL_d8d6597b2f764c658060d791f9b4644d",
              "IPY_MODEL_c94c659f0c534ec99df3e95407c1318c"
            ],
            "layout": "IPY_MODEL_5c4a3f4d5d1e48e6bef2029817bd88c9"
          }
        },
        "b5d99151c491427e804ae7ba93c30839": {
          "model_module": "@jupyter-widgets/controls",
          "model_name": "HTMLModel",
          "model_module_version": "1.5.0",
          "state": {
            "_dom_classes": [],
            "_model_module": "@jupyter-widgets/controls",
            "_model_module_version": "1.5.0",
            "_model_name": "HTMLModel",
            "_view_count": null,
            "_view_module": "@jupyter-widgets/controls",
            "_view_module_version": "1.5.0",
            "_view_name": "HTMLView",
            "description": "",
            "description_tooltip": null,
            "layout": "IPY_MODEL_9adc3156435d492991060d9e504bbb7e",
            "placeholder": "​",
            "style": "IPY_MODEL_cbcf9e452730436cbae1cfb15510610f",
            "value": "Map: 100%"
          }
        },
        "d8d6597b2f764c658060d791f9b4644d": {
          "model_module": "@jupyter-widgets/controls",
          "model_name": "FloatProgressModel",
          "model_module_version": "1.5.0",
          "state": {
            "_dom_classes": [],
            "_model_module": "@jupyter-widgets/controls",
            "_model_module_version": "1.5.0",
            "_model_name": "FloatProgressModel",
            "_view_count": null,
            "_view_module": "@jupyter-widgets/controls",
            "_view_module_version": "1.5.0",
            "_view_name": "ProgressView",
            "bar_style": "success",
            "description": "",
            "description_tooltip": null,
            "layout": "IPY_MODEL_d4b4c9a0b3804f4fba8518efcecc1b8a",
            "max": 480,
            "min": 0,
            "orientation": "horizontal",
            "style": "IPY_MODEL_e74e9ab4ca7144a48b0e3050ad17431c",
            "value": 480
          }
        },
        "c94c659f0c534ec99df3e95407c1318c": {
          "model_module": "@jupyter-widgets/controls",
          "model_name": "HTMLModel",
          "model_module_version": "1.5.0",
          "state": {
            "_dom_classes": [],
            "_model_module": "@jupyter-widgets/controls",
            "_model_module_version": "1.5.0",
            "_model_name": "HTMLModel",
            "_view_count": null,
            "_view_module": "@jupyter-widgets/controls",
            "_view_module_version": "1.5.0",
            "_view_name": "HTMLView",
            "description": "",
            "description_tooltip": null,
            "layout": "IPY_MODEL_bcde827c1de0416fb1308875417b816a",
            "placeholder": "​",
            "style": "IPY_MODEL_6873fa646eef4aa4891cb794d09532ed",
            "value": " 480/480 [00:00&lt;00:00, 3121.87 examples/s]"
          }
        },
        "5c4a3f4d5d1e48e6bef2029817bd88c9": {
          "model_module": "@jupyter-widgets/base",
          "model_name": "LayoutModel",
          "model_module_version": "1.2.0",
          "state": {
            "_model_module": "@jupyter-widgets/base",
            "_model_module_version": "1.2.0",
            "_model_name": "LayoutModel",
            "_view_count": null,
            "_view_module": "@jupyter-widgets/base",
            "_view_module_version": "1.2.0",
            "_view_name": "LayoutView",
            "align_content": null,
            "align_items": null,
            "align_self": null,
            "border": null,
            "bottom": null,
            "display": null,
            "flex": null,
            "flex_flow": null,
            "grid_area": null,
            "grid_auto_columns": null,
            "grid_auto_flow": null,
            "grid_auto_rows": null,
            "grid_column": null,
            "grid_gap": null,
            "grid_row": null,
            "grid_template_areas": null,
            "grid_template_columns": null,
            "grid_template_rows": null,
            "height": null,
            "justify_content": null,
            "justify_items": null,
            "left": null,
            "margin": null,
            "max_height": null,
            "max_width": null,
            "min_height": null,
            "min_width": null,
            "object_fit": null,
            "object_position": null,
            "order": null,
            "overflow": null,
            "overflow_x": null,
            "overflow_y": null,
            "padding": null,
            "right": null,
            "top": null,
            "visibility": null,
            "width": null
          }
        },
        "9adc3156435d492991060d9e504bbb7e": {
          "model_module": "@jupyter-widgets/base",
          "model_name": "LayoutModel",
          "model_module_version": "1.2.0",
          "state": {
            "_model_module": "@jupyter-widgets/base",
            "_model_module_version": "1.2.0",
            "_model_name": "LayoutModel",
            "_view_count": null,
            "_view_module": "@jupyter-widgets/base",
            "_view_module_version": "1.2.0",
            "_view_name": "LayoutView",
            "align_content": null,
            "align_items": null,
            "align_self": null,
            "border": null,
            "bottom": null,
            "display": null,
            "flex": null,
            "flex_flow": null,
            "grid_area": null,
            "grid_auto_columns": null,
            "grid_auto_flow": null,
            "grid_auto_rows": null,
            "grid_column": null,
            "grid_gap": null,
            "grid_row": null,
            "grid_template_areas": null,
            "grid_template_columns": null,
            "grid_template_rows": null,
            "height": null,
            "justify_content": null,
            "justify_items": null,
            "left": null,
            "margin": null,
            "max_height": null,
            "max_width": null,
            "min_height": null,
            "min_width": null,
            "object_fit": null,
            "object_position": null,
            "order": null,
            "overflow": null,
            "overflow_x": null,
            "overflow_y": null,
            "padding": null,
            "right": null,
            "top": null,
            "visibility": null,
            "width": null
          }
        },
        "cbcf9e452730436cbae1cfb15510610f": {
          "model_module": "@jupyter-widgets/controls",
          "model_name": "DescriptionStyleModel",
          "model_module_version": "1.5.0",
          "state": {
            "_model_module": "@jupyter-widgets/controls",
            "_model_module_version": "1.5.0",
            "_model_name": "DescriptionStyleModel",
            "_view_count": null,
            "_view_module": "@jupyter-widgets/base",
            "_view_module_version": "1.2.0",
            "_view_name": "StyleView",
            "description_width": ""
          }
        },
        "d4b4c9a0b3804f4fba8518efcecc1b8a": {
          "model_module": "@jupyter-widgets/base",
          "model_name": "LayoutModel",
          "model_module_version": "1.2.0",
          "state": {
            "_model_module": "@jupyter-widgets/base",
            "_model_module_version": "1.2.0",
            "_model_name": "LayoutModel",
            "_view_count": null,
            "_view_module": "@jupyter-widgets/base",
            "_view_module_version": "1.2.0",
            "_view_name": "LayoutView",
            "align_content": null,
            "align_items": null,
            "align_self": null,
            "border": null,
            "bottom": null,
            "display": null,
            "flex": null,
            "flex_flow": null,
            "grid_area": null,
            "grid_auto_columns": null,
            "grid_auto_flow": null,
            "grid_auto_rows": null,
            "grid_column": null,
            "grid_gap": null,
            "grid_row": null,
            "grid_template_areas": null,
            "grid_template_columns": null,
            "grid_template_rows": null,
            "height": null,
            "justify_content": null,
            "justify_items": null,
            "left": null,
            "margin": null,
            "max_height": null,
            "max_width": null,
            "min_height": null,
            "min_width": null,
            "object_fit": null,
            "object_position": null,
            "order": null,
            "overflow": null,
            "overflow_x": null,
            "overflow_y": null,
            "padding": null,
            "right": null,
            "top": null,
            "visibility": null,
            "width": null
          }
        },
        "e74e9ab4ca7144a48b0e3050ad17431c": {
          "model_module": "@jupyter-widgets/controls",
          "model_name": "ProgressStyleModel",
          "model_module_version": "1.5.0",
          "state": {
            "_model_module": "@jupyter-widgets/controls",
            "_model_module_version": "1.5.0",
            "_model_name": "ProgressStyleModel",
            "_view_count": null,
            "_view_module": "@jupyter-widgets/base",
            "_view_module_version": "1.2.0",
            "_view_name": "StyleView",
            "bar_color": null,
            "description_width": ""
          }
        },
        "bcde827c1de0416fb1308875417b816a": {
          "model_module": "@jupyter-widgets/base",
          "model_name": "LayoutModel",
          "model_module_version": "1.2.0",
          "state": {
            "_model_module": "@jupyter-widgets/base",
            "_model_module_version": "1.2.0",
            "_model_name": "LayoutModel",
            "_view_count": null,
            "_view_module": "@jupyter-widgets/base",
            "_view_module_version": "1.2.0",
            "_view_name": "LayoutView",
            "align_content": null,
            "align_items": null,
            "align_self": null,
            "border": null,
            "bottom": null,
            "display": null,
            "flex": null,
            "flex_flow": null,
            "grid_area": null,
            "grid_auto_columns": null,
            "grid_auto_flow": null,
            "grid_auto_rows": null,
            "grid_column": null,
            "grid_gap": null,
            "grid_row": null,
            "grid_template_areas": null,
            "grid_template_columns": null,
            "grid_template_rows": null,
            "height": null,
            "justify_content": null,
            "justify_items": null,
            "left": null,
            "margin": null,
            "max_height": null,
            "max_width": null,
            "min_height": null,
            "min_width": null,
            "object_fit": null,
            "object_position": null,
            "order": null,
            "overflow": null,
            "overflow_x": null,
            "overflow_y": null,
            "padding": null,
            "right": null,
            "top": null,
            "visibility": null,
            "width": null
          }
        },
        "6873fa646eef4aa4891cb794d09532ed": {
          "model_module": "@jupyter-widgets/controls",
          "model_name": "DescriptionStyleModel",
          "model_module_version": "1.5.0",
          "state": {
            "_model_module": "@jupyter-widgets/controls",
            "_model_module_version": "1.5.0",
            "_model_name": "DescriptionStyleModel",
            "_view_count": null,
            "_view_module": "@jupyter-widgets/base",
            "_view_module_version": "1.2.0",
            "_view_name": "StyleView",
            "description_width": ""
          }
        },
        "7c64031f51e444cbb853b94c48d4ff1c": {
          "model_module": "@jupyter-widgets/controls",
          "model_name": "HBoxModel",
          "model_module_version": "1.5.0",
          "state": {
            "_dom_classes": [],
            "_model_module": "@jupyter-widgets/controls",
            "_model_module_version": "1.5.0",
            "_model_name": "HBoxModel",
            "_view_count": null,
            "_view_module": "@jupyter-widgets/controls",
            "_view_module_version": "1.5.0",
            "_view_name": "HBoxView",
            "box_style": "",
            "children": [
              "IPY_MODEL_a6519a03821f4ecca167675836a34dd9",
              "IPY_MODEL_c92ba88db1ed4656a4b5df28303c8132",
              "IPY_MODEL_da5f5421db0f44b281c028ab234b4914"
            ],
            "layout": "IPY_MODEL_b155f7a77a934e88b42fd4334a84a535"
          }
        },
        "a6519a03821f4ecca167675836a34dd9": {
          "model_module": "@jupyter-widgets/controls",
          "model_name": "HTMLModel",
          "model_module_version": "1.5.0",
          "state": {
            "_dom_classes": [],
            "_model_module": "@jupyter-widgets/controls",
            "_model_module_version": "1.5.0",
            "_model_name": "HTMLModel",
            "_view_count": null,
            "_view_module": "@jupyter-widgets/controls",
            "_view_module_version": "1.5.0",
            "_view_name": "HTMLView",
            "description": "",
            "description_tooltip": null,
            "layout": "IPY_MODEL_575ba11a123f4d6892aa4c950ff902db",
            "placeholder": "​",
            "style": "IPY_MODEL_a0e595ecb9c442cf806930b4d4baef3c",
            "value": "Loading checkpoint shards: 100%"
          }
        },
        "c92ba88db1ed4656a4b5df28303c8132": {
          "model_module": "@jupyter-widgets/controls",
          "model_name": "FloatProgressModel",
          "model_module_version": "1.5.0",
          "state": {
            "_dom_classes": [],
            "_model_module": "@jupyter-widgets/controls",
            "_model_module_version": "1.5.0",
            "_model_name": "FloatProgressModel",
            "_view_count": null,
            "_view_module": "@jupyter-widgets/controls",
            "_view_module_version": "1.5.0",
            "_view_name": "ProgressView",
            "bar_style": "success",
            "description": "",
            "description_tooltip": null,
            "layout": "IPY_MODEL_5542a15868d14531afaba9973e31ddd2",
            "max": 5,
            "min": 0,
            "orientation": "horizontal",
            "style": "IPY_MODEL_26ef4c70226a4e47978fd2e8916e490c",
            "value": 5
          }
        },
        "da5f5421db0f44b281c028ab234b4914": {
          "model_module": "@jupyter-widgets/controls",
          "model_name": "HTMLModel",
          "model_module_version": "1.5.0",
          "state": {
            "_dom_classes": [],
            "_model_module": "@jupyter-widgets/controls",
            "_model_module_version": "1.5.0",
            "_model_name": "HTMLModel",
            "_view_count": null,
            "_view_module": "@jupyter-widgets/controls",
            "_view_module_version": "1.5.0",
            "_view_name": "HTMLView",
            "description": "",
            "description_tooltip": null,
            "layout": "IPY_MODEL_cf657e84e3f44c74aa760a73aa68a9e4",
            "placeholder": "​",
            "style": "IPY_MODEL_101e8d84874049898587f9ed832118d8",
            "value": " 5/5 [01:44&lt;00:00, 19.51s/it]"
          }
        },
        "b155f7a77a934e88b42fd4334a84a535": {
          "model_module": "@jupyter-widgets/base",
          "model_name": "LayoutModel",
          "model_module_version": "1.2.0",
          "state": {
            "_model_module": "@jupyter-widgets/base",
            "_model_module_version": "1.2.0",
            "_model_name": "LayoutModel",
            "_view_count": null,
            "_view_module": "@jupyter-widgets/base",
            "_view_module_version": "1.2.0",
            "_view_name": "LayoutView",
            "align_content": null,
            "align_items": null,
            "align_self": null,
            "border": null,
            "bottom": null,
            "display": null,
            "flex": null,
            "flex_flow": null,
            "grid_area": null,
            "grid_auto_columns": null,
            "grid_auto_flow": null,
            "grid_auto_rows": null,
            "grid_column": null,
            "grid_gap": null,
            "grid_row": null,
            "grid_template_areas": null,
            "grid_template_columns": null,
            "grid_template_rows": null,
            "height": null,
            "justify_content": null,
            "justify_items": null,
            "left": null,
            "margin": null,
            "max_height": null,
            "max_width": null,
            "min_height": null,
            "min_width": null,
            "object_fit": null,
            "object_position": null,
            "order": null,
            "overflow": null,
            "overflow_x": null,
            "overflow_y": null,
            "padding": null,
            "right": null,
            "top": null,
            "visibility": null,
            "width": null
          }
        },
        "575ba11a123f4d6892aa4c950ff902db": {
          "model_module": "@jupyter-widgets/base",
          "model_name": "LayoutModel",
          "model_module_version": "1.2.0",
          "state": {
            "_model_module": "@jupyter-widgets/base",
            "_model_module_version": "1.2.0",
            "_model_name": "LayoutModel",
            "_view_count": null,
            "_view_module": "@jupyter-widgets/base",
            "_view_module_version": "1.2.0",
            "_view_name": "LayoutView",
            "align_content": null,
            "align_items": null,
            "align_self": null,
            "border": null,
            "bottom": null,
            "display": null,
            "flex": null,
            "flex_flow": null,
            "grid_area": null,
            "grid_auto_columns": null,
            "grid_auto_flow": null,
            "grid_auto_rows": null,
            "grid_column": null,
            "grid_gap": null,
            "grid_row": null,
            "grid_template_areas": null,
            "grid_template_columns": null,
            "grid_template_rows": null,
            "height": null,
            "justify_content": null,
            "justify_items": null,
            "left": null,
            "margin": null,
            "max_height": null,
            "max_width": null,
            "min_height": null,
            "min_width": null,
            "object_fit": null,
            "object_position": null,
            "order": null,
            "overflow": null,
            "overflow_x": null,
            "overflow_y": null,
            "padding": null,
            "right": null,
            "top": null,
            "visibility": null,
            "width": null
          }
        },
        "a0e595ecb9c442cf806930b4d4baef3c": {
          "model_module": "@jupyter-widgets/controls",
          "model_name": "DescriptionStyleModel",
          "model_module_version": "1.5.0",
          "state": {
            "_model_module": "@jupyter-widgets/controls",
            "_model_module_version": "1.5.0",
            "_model_name": "DescriptionStyleModel",
            "_view_count": null,
            "_view_module": "@jupyter-widgets/base",
            "_view_module_version": "1.2.0",
            "_view_name": "StyleView",
            "description_width": ""
          }
        },
        "5542a15868d14531afaba9973e31ddd2": {
          "model_module": "@jupyter-widgets/base",
          "model_name": "LayoutModel",
          "model_module_version": "1.2.0",
          "state": {
            "_model_module": "@jupyter-widgets/base",
            "_model_module_version": "1.2.0",
            "_model_name": "LayoutModel",
            "_view_count": null,
            "_view_module": "@jupyter-widgets/base",
            "_view_module_version": "1.2.0",
            "_view_name": "LayoutView",
            "align_content": null,
            "align_items": null,
            "align_self": null,
            "border": null,
            "bottom": null,
            "display": null,
            "flex": null,
            "flex_flow": null,
            "grid_area": null,
            "grid_auto_columns": null,
            "grid_auto_flow": null,
            "grid_auto_rows": null,
            "grid_column": null,
            "grid_gap": null,
            "grid_row": null,
            "grid_template_areas": null,
            "grid_template_columns": null,
            "grid_template_rows": null,
            "height": null,
            "justify_content": null,
            "justify_items": null,
            "left": null,
            "margin": null,
            "max_height": null,
            "max_width": null,
            "min_height": null,
            "min_width": null,
            "object_fit": null,
            "object_position": null,
            "order": null,
            "overflow": null,
            "overflow_x": null,
            "overflow_y": null,
            "padding": null,
            "right": null,
            "top": null,
            "visibility": null,
            "width": null
          }
        },
        "26ef4c70226a4e47978fd2e8916e490c": {
          "model_module": "@jupyter-widgets/controls",
          "model_name": "ProgressStyleModel",
          "model_module_version": "1.5.0",
          "state": {
            "_model_module": "@jupyter-widgets/controls",
            "_model_module_version": "1.5.0",
            "_model_name": "ProgressStyleModel",
            "_view_count": null,
            "_view_module": "@jupyter-widgets/base",
            "_view_module_version": "1.2.0",
            "_view_name": "StyleView",
            "bar_color": null,
            "description_width": ""
          }
        },
        "cf657e84e3f44c74aa760a73aa68a9e4": {
          "model_module": "@jupyter-widgets/base",
          "model_name": "LayoutModel",
          "model_module_version": "1.2.0",
          "state": {
            "_model_module": "@jupyter-widgets/base",
            "_model_module_version": "1.2.0",
            "_model_name": "LayoutModel",
            "_view_count": null,
            "_view_module": "@jupyter-widgets/base",
            "_view_module_version": "1.2.0",
            "_view_name": "LayoutView",
            "align_content": null,
            "align_items": null,
            "align_self": null,
            "border": null,
            "bottom": null,
            "display": null,
            "flex": null,
            "flex_flow": null,
            "grid_area": null,
            "grid_auto_columns": null,
            "grid_auto_flow": null,
            "grid_auto_rows": null,
            "grid_column": null,
            "grid_gap": null,
            "grid_row": null,
            "grid_template_areas": null,
            "grid_template_columns": null,
            "grid_template_rows": null,
            "height": null,
            "justify_content": null,
            "justify_items": null,
            "left": null,
            "margin": null,
            "max_height": null,
            "max_width": null,
            "min_height": null,
            "min_width": null,
            "object_fit": null,
            "object_position": null,
            "order": null,
            "overflow": null,
            "overflow_x": null,
            "overflow_y": null,
            "padding": null,
            "right": null,
            "top": null,
            "visibility": null,
            "width": null
          }
        },
        "101e8d84874049898587f9ed832118d8": {
          "model_module": "@jupyter-widgets/controls",
          "model_name": "DescriptionStyleModel",
          "model_module_version": "1.5.0",
          "state": {
            "_model_module": "@jupyter-widgets/controls",
            "_model_module_version": "1.5.0",
            "_model_name": "DescriptionStyleModel",
            "_view_count": null,
            "_view_module": "@jupyter-widgets/base",
            "_view_module_version": "1.2.0",
            "_view_name": "StyleView",
            "description_width": ""
          }
        }
      }
    }
  },
  "nbformat": 4,
  "nbformat_minor": 0
}